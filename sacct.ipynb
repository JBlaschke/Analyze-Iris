{
 "cells": [
  {
   "cell_type": "code",
   "execution_count": 1,
   "id": "c40e71d8-99d8-462e-863c-1b980247ecc1",
   "metadata": {},
   "outputs": [],
   "source": [
    "using Revise, JSON, Dates"
   ]
  },
  {
   "cell_type": "code",
   "execution_count": 2,
   "id": "a3618a66-844f-4dcc-afcb-ba0b95d44ea8",
   "metadata": {},
   "outputs": [],
   "source": [
    "struct Reservation\n",
    "    name::String\n",
    "    nodelist::String\n",
    "    starttime::String\n",
    "    endtime::String\n",
    "    nodecount::Int64\n",
    "    features::String\n",
    "    acccount::String\n",
    "end"
   ]
  },
  {
   "cell_type": "code",
   "execution_count": 3,
   "id": "b67d60df-35fe-4cf0-9071-66eabaac5ea6",
   "metadata": {},
   "outputs": [
    {
     "data": {
      "text/plain": [
       "sacct_get_jobs (generic function with 1 method)"
      ]
     },
     "execution_count": 3,
     "metadata": {},
     "output_type": "execute_result"
    }
   ],
   "source": [
    "function sacct_get_jobs(res::Reservation)\n",
    "    sacct_cmd = `sacct --nodelist=$(res.nodelist) --starttime=$(res.starttime) --endtime=$(res.endtime) -nXPo AdminComment`\n",
    "    lines = open(sacct_cmd) do f\n",
    "        readlines(f)\n",
    "    end\n",
    "    return map(x->JSON.parse(x), lines)\n",
    "end"
   ]
  },
  {
   "cell_type": "code",
   "execution_count": 4,
   "id": "879eee87-75bf-4475-a3ca-89a874564567",
   "metadata": {},
   "outputs": [
    {
     "data": {
      "text/plain": [
       "Reservation(\"p203_processing_2\", \"nid00[792-795,800-828,860,876-882,884,902-910,913-914,924-926,928-929,935,947-949,952-953]\", \"2021-08-02T22:00:00\", \"2021-08-03T12:00:00\", 64, \"haswell\", \"lcls\")"
      ]
     },
     "execution_count": 4,
     "metadata": {},
     "output_type": "execute_result"
    }
   ],
   "source": [
    "lx31_1  = Reservation(\"lx31_processing_1\", \"nid00[800-831]\", \"2021-07-23T10:00:00\", \"2021-07-23T22:00:00\", 32, \"haswell\", \"lcls\")\n",
    "lx31_1a = Reservation(\"lx31_processing_1a\", \"nid0[1161,1203-1205,1330-1332,1393-1403,1423-1426,1454-1460,1463-1464,1492]\", \"2021-07-23T23:07:19\", \"2021-07-24T11:07:19\", 32, \"haswell\", \"lcls\")\n",
    "lx31_2  = Reservation(\"lx31_processing_2\", \"nid0[0792,0800-0808,0810-0811,0813-0831,0845,1325-1326,1929-1931,1969,2010,2013,2018,2026-2027,2081-2084,2105-2106,2146-2147,2150-2151,2161,2219,2221-2225,2228,2293-2295]\", \"2021-07-25T10:00:00\", \"2021-07-26T10:00:00\", 64, \"haswell\", \"lcls\")\n",
    "\n",
    "lv07_1  = Reservation(\"lv07_processing_1\", \"nid00[792-795,800-831,845,847-848,852-876]\", \"2021-07-29T10:00:00\", \"2021-07-29T22:00:00\", 64, \"haswell\", \"lcls\")\n",
    "lv07_2  = Reservation(\"lv07_processing_2\", \"nid00[792-795,800-831,845,847-848,852-876]\", \"2021-07-30T10:00:00\", \"2021-07-30T22:00:00\", 64, \"haswell\", \"lcls\")\n",
    "lv07_3  = Reservation(\"lv07_processing_3\", \"nid00[792-795,800-831,845,847-848,852-876]\", \"2021-07-31T10:00:00\", \"2021-07-31T22:00:00\", 64, \"haswell\", \"lcls\")\n",
    "lv07_4  = Reservation(\"lv07_processing_4\", \"nid00[792-795,800-831,845,847-848,852-876]\", \"2021-08-01T10:00:00\", \"2021-08-01T22:00:00\", 64, \"haswell\", \"lcls\")\n",
    "\n",
    "p203_1  = Reservation(\"p203_processing_1\", \"nid00[792-795,800-827]\", \"2021-08-01T22:00:00\", \"2021-08-02T10:00:00\", 32, \"haswell\", \"lcls\")\n",
    "p203_2  = Reservation(\"p203_processing_2\", \"nid00[792-795,800-827]\", \"2021-08-02T22:00:00\", \"2021-08-03T12:00:00\", 32, \"haswell\", \"lcls\")\n",
    "p203_3  = Reservation(\"p203_processing_2\", \"nid00[792-795,800-828,860,876-882,884,902-910,913-914,924-926,928-929,935,947-949,952-953]\", \"2021-08-02T22:00:00\", \"2021-08-03T12:00:00\", 64, \"haswell\", \"lcls\")"
   ]
  },
  {
   "cell_type": "code",
   "execution_count": 5,
   "id": "7bfe1a39-34e4-447f-81b9-2b0b9155fd6d",
   "metadata": {},
   "outputs": [],
   "source": [
    "lx31_jobs = Dict(\n",
    "    \"lx31_1\"  => sacct_get_jobs(lx31_1),\n",
    "    \"lx31_1a\" => sacct_get_jobs(lx31_1a),\n",
    "    \"lx31_2\"  => sacct_get_jobs(lx31_2)\n",
    ")\n",
    "lv07_jobs = Dict(\n",
    "    \"lv07_1\" => sacct_get_jobs(lv07_1),\n",
    "    \"lv07_2\" => sacct_get_jobs(lv07_2),\n",
    "    \"lv07_3\" => sacct_get_jobs(lv07_3),\n",
    "    \"lv07_4\" => sacct_get_jobs(lv07_4)\n",
    ")\n",
    "p203_jobs = Dict(\n",
    "    \"p203_1\" => sacct_get_jobs(p203_1),\n",
    "    \"p203_2\" => sacct_get_jobs(p203_2),\n",
    "    \"p203_3\" => sacct_get_jobs(p203_3)\n",
    ")\n",
    "\n",
    ";"
   ]
  },
  {
   "cell_type": "code",
   "execution_count": 6,
   "id": "58e85c69-7251-418c-a644-b6576593ba8a",
   "metadata": {},
   "outputs": [],
   "source": [
    "open(joinpath(\"data\", \"sacct\", \"lx31_jobs.json\"), \"w\") do f\n",
    "    JSON.print(f, lx31_jobs, 4)\n",
    "end\n",
    "\n",
    "open(joinpath(\"data\", \"sacct\", \"lv07_jobs.json\"), \"w\") do f\n",
    "    JSON.print(f, lv07_jobs, 4)\n",
    "end\n",
    "\n",
    "open(joinpath(\"data\", \"sacct\", \"p203_jobs.json\"), \"w\") do f\n",
    "    JSON.print(f, p203_jobs, 4)\n",
    "end"
   ]
  },
  {
   "cell_type": "code",
   "execution_count": null,
   "id": "8b16593e-347e-4a69-9620-12378af48493",
   "metadata": {},
   "outputs": [],
   "source": []
  }
 ],
 "metadata": {
  "kernelspec": {
   "display_name": "Julia 1.6.0",
   "language": "julia",
   "name": "julia-1.6"
  },
  "language_info": {
   "file_extension": ".jl",
   "mimetype": "application/julia",
   "name": "julia",
   "version": "1.6.0"
  }
 },
 "nbformat": 4,
 "nbformat_minor": 5
}
