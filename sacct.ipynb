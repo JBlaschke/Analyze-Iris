{
 "cells": [
  {
   "cell_type": "code",
   "execution_count": 1,
   "id": "3724d3c3-2f20-4797-a930-296b08fee5d4",
   "metadata": {},
   "outputs": [],
   "source": [
    "using Revise, Dates, JSON, DataFrames, BenchmarkTools, StatsBase, Parquet"
   ]
  },
  {
   "cell_type": "code",
   "execution_count": 2,
   "id": "5731945f-25af-41d1-9631-39cbfde523ed",
   "metadata": {},
   "outputs": [
    {
     "name": "stderr",
     "output_type": "stream",
     "text": [
      "\u001b[32m\u001b[1m  Activating\u001b[22m\u001b[39m project at `/global/u1/b/blaschke/analyze-iris/SlurmCLI`\n"
     ]
    }
   ],
   "source": [
    "import Pkg\n",
    "Pkg.activate(joinpath(@__DIR__, \"SlurmCLI\"))"
   ]
  },
  {
   "cell_type": "code",
   "execution_count": 3,
   "id": "e5e3a897-67c2-4674-8208-ef383be5d428",
   "metadata": {},
   "outputs": [
    {
     "name": "stderr",
     "output_type": "stream",
     "text": [
      "┌ Info: Precompiling SlurmCLI [f20ae521-c5a4-4611-9d1a-038c97f73376]\n",
      "└ @ Base loading.jl:1504\n"
     ]
    }
   ],
   "source": [
    "using SlurmCLI"
   ]
  },
  {
   "cell_type": "code",
   "execution_count": 4,
   "id": "879eee87-75bf-4475-a3ca-89a874564567",
   "metadata": {},
   "outputs": [
    {
     "data": {
      "text/plain": [
       "Reservation(\"p203_processing_2\", \"nid00[792-795,800-828,860,876-882,884,902-910,913-914,924-926,928-929,935,947-949,952-953]\", DateTime(\"2021-08-02T22:00:00\"), DateTime(\"2021-08-03T12:00:00\"), 64, \"haswell\", \"lcls\")"
      ]
     },
     "execution_count": 4,
     "metadata": {},
     "output_type": "execute_result"
    }
   ],
   "source": [
    "lx31_1  = Reservation(\n",
    "    name      = \"lx31_processing_1\",\n",
    "    nodelist  = \"nid00[800-831]\",\n",
    "    starttime = \"2021-07-23T10:00:00\",\n",
    "    endtime   = \"2021-07-23T22:00:00\",\n",
    "    nodecount = 32,\n",
    "    features  = \"haswell\",\n",
    "    account   = \"lcls\"\n",
    ")\n",
    "lx31_1a = Reservation(\n",
    "    name      = \"lx31_processing_1a\",\n",
    "    nodelist  = \"nid0[1161,1203-1205,1330-1332,1393-1403,1423-1426,1454-1460,1463-1464,1492]\",\n",
    "    starttime = \"2021-07-23T23:07:19\",\n",
    "    endtime   = \"2021-07-24T11:07:19\",\n",
    "    nodecount = 32,\n",
    "    features  = \"haswell\",\n",
    "    account   = \"lcls\"\n",
    ")\n",
    "lx31_2  = Reservation(\n",
    "    name      = \"lx31_processing_2\", \n",
    "    nodelist  = \"nid0[0792,0800-0808,0810-0811,0813-0831,0845,1325-1326,1929-1931,1969,2010,2013,2018,2026-2027,2081-2084,2105-2106,2146-2147,2150-2151,2161,2219,2221-2225,2228,2293-2295]\",\n",
    "    starttime = \"2021-07-25T10:00:00\", \n",
    "    endtime   = \"2021-07-26T10:00:00\", \n",
    "    nodecount = 64,\n",
    "    features  = \"haswell\", \n",
    "    account   = \"lcls\"\n",
    ")\n",
    "\n",
    "lv07_1  = Reservation(\n",
    "    name      = \"lv07_processing_1\",\n",
    "    nodelist  = \"nid00[792-795,800-831,845,847-848,852-876]\",\n",
    "    starttime = \"2021-07-29T10:00:00\",\n",
    "    endtime   = \"2021-07-29T22:00:00\",\n",
    "    nodecount = 64,\n",
    "    features  = \"haswell\",\n",
    "    account   = \"lcls\"\n",
    ")\n",
    "lv07_2  = Reservation(\n",
    "    name      = \"lv07_processing_2\",\n",
    "    nodelist  = \"nid00[792-795,800-831,845,847-848,852-876]\",\n",
    "    starttime = \"2021-07-30T10:00:00\",\n",
    "    endtime   = \"2021-07-30T22:00:00\",\n",
    "    nodecount = 64,\n",
    "    features  = \"haswell\",\n",
    "    account   = \"lcls\"\n",
    ")\n",
    "lv07_3  = Reservation(\n",
    "    name      = \"lv07_processing_3\",\n",
    "    nodelist  = \"nid00[792-795,800-831,845,847-848,852-876]\",\n",
    "    starttime = \"2021-07-31T10:00:00\",\n",
    "    endtime   = \"2021-07-31T22:00:00\",\n",
    "    nodecount = 64,\n",
    "    features  = \"haswell\",\n",
    "    account   = \"lcls\")\n",
    "lv07_4  = Reservation(\n",
    "    name      = \"lv07_processing_4\",\n",
    "    nodelist  = \"nid00[792-795,800-831,845,847-848,852-876]\",\n",
    "    starttime = \"2021-08-01T10:00:00\",\n",
    "    endtime   = \"2021-08-01T22:00:00\",\n",
    "    nodecount = 64,\n",
    "    features  = \"haswell\",\n",
    "    account   = \"lcls\"\n",
    ")\n",
    "\n",
    "p203_1  = Reservation(\n",
    "    name      = \"p203_processing_1\",\n",
    "    nodelist  = \"nid00[792-795,800-827]\",\n",
    "    starttime = \"2021-08-01T22:00:00\",\n",
    "    endtime   = \"2021-08-02T10:00:00\",\n",
    "    nodecount = 32,\n",
    "    features  = \"haswell\",\n",
    "    account   = \"lcls\"\n",
    ")\n",
    "p203_2  = Reservation(\n",
    "    name      = \"p203_processing_2\",\n",
    "    nodelist  = \"nid00[792-795,800-827]\",\n",
    "    starttime = \"2021-08-02T22:00:00\",\n",
    "    endtime   = \"2021-08-03T12:00:00\",\n",
    "    nodecount = 32,\n",
    "    features  = \"haswell\",\n",
    "    account   = \"lcls\"\n",
    ")\n",
    "p203_3  = Reservation(\n",
    "    name      = \"p203_processing_2\",\n",
    "    nodelist  = \"nid00[792-795,800-828,860,876-882,884,902-910,913-914,924-926,928-929,935,947-949,952-953]\",\n",
    "    starttime = \"2021-08-02T22:00:00\",\n",
    "    endtime   = \"2021-08-03T12:00:00\",\n",
    "    nodecount = 64,\n",
    "    features  = \"haswell\",\n",
    "    account   = \"lcls\"\n",
    ")"
   ]
  },
  {
   "cell_type": "code",
   "execution_count": 9,
   "id": "7998e7ee-ed50-4a6d-985f-331e03f07944",
   "metadata": {},
   "outputs": [
    {
     "data": {
      "text/plain": [
       "1-element Vector{NamedTuple{(:code, :range, :err), Tuple{Int64, Vector{DateTime}, String}}}:\n",
       " (code = 0, range = [DateTime(\"2021-07-23T10:00:00\"), DateTime(\"2021-07-23T22:00:00\")], err = \"\")"
      ]
     },
     "execution_count": 9,
     "metadata": {},
     "output_type": "execute_result"
    }
   ],
   "source": [
    "sav, status = sacct_collect_jobs(lx31_1, Day(7))\n",
    "status"
   ]
  },
  {
   "cell_type": "code",
   "execution_count": 50,
   "id": "58bc79d3-3d69-4c97-94cb-580f9e662ddf",
   "metadata": {},
   "outputs": [
    {
     "name": "stderr",
     "output_type": "stream",
     "text": [
      "\u001b[32mCollected: 100%|██████████████████████████| Time: 2:52:32 (83.49  s/it)\u001b[39m\n",
      "\u001b[34m  total collected:  18079\u001b[39m\n"
     ]
    },
    {
     "data": {
      "text/plain": [
       "124-element Vector{NamedTuple{(:code, :range, :err), Tuple{Int64, Vector{DateTime}, String}}}:\n",
       " (code = 0, range = [DateTime(\"2020-01-01T00:00:00\"), DateTime(\"2020-01-08T00:00:00\")], err = \"\")\n",
       " (code = 0, range = [DateTime(\"2020-01-08T00:00:00\"), DateTime(\"2020-01-15T00:00:00\")], err = \"\")\n",
       " (code = 0, range = [DateTime(\"2020-01-15T00:00:00\"), DateTime(\"2020-01-22T00:00:00\")], err = \"\")\n",
       " (code = 0, range = [DateTime(\"2020-01-22T00:00:00\"), DateTime(\"2020-01-29T00:00:00\")], err = \"\")\n",
       " (code = 0, range = [DateTime(\"2020-01-29T00:00:00\"), DateTime(\"2020-02-05T00:00:00\")], err = \"\")\n",
       " (code = 0, range = [DateTime(\"2020-02-05T00:00:00\"), DateTime(\"2020-02-12T00:00:00\")], err = \"\")\n",
       " (code = 0, range = [DateTime(\"2020-02-12T00:00:00\"), DateTime(\"2020-02-19T00:00:00\")], err = \"\")\n",
       " (code = 0, range = [DateTime(\"2020-02-19T00:00:00\"), DateTime(\"2020-02-26T00:00:00\")], err = \"\")\n",
       " (code = 0, range = [DateTime(\"2020-02-26T00:00:00\"), DateTime(\"2020-03-04T00:00:00\")], err = \"\")\n",
       " (code = 0, range = [DateTime(\"2020-03-04T00:00:00\"), DateTime(\"2020-03-11T00:00:00\")], err = \"\")\n",
       " (code = 0, range = [DateTime(\"2020-03-11T00:00:00\"), DateTime(\"2020-03-18T00:00:00\")], err = \"\")\n",
       " (code = 0, range = [DateTime(\"2020-03-18T00:00:00\"), DateTime(\"2020-03-25T00:00:00\")], err = \"\")\n",
       " (code = 0, range = [DateTime(\"2020-03-25T00:00:00\"), DateTime(\"2020-04-01T00:00:00\")], err = \"\")\n",
       " ⋮\n",
       " (code = 0, range = [DateTime(\"2022-02-23T00:00:00\"), DateTime(\"2022-03-02T00:00:00\")], err = \"\")\n",
       " (code = 0, range = [DateTime(\"2022-03-02T00:00:00\"), DateTime(\"2022-03-09T00:00:00\")], err = \"\")\n",
       " (code = 0, range = [DateTime(\"2022-03-09T00:00:00\"), DateTime(\"2022-03-16T00:00:00\")], err = \"\")\n",
       " (code = 0, range = [DateTime(\"2022-03-16T00:00:00\"), DateTime(\"2022-03-23T00:00:00\")], err = \"\")\n",
       " (code = 0, range = [DateTime(\"2022-03-23T00:00:00\"), DateTime(\"2022-03-30T00:00:00\")], err = \"\")\n",
       " (code = 0, range = [DateTime(\"2022-03-30T00:00:00\"), DateTime(\"2022-04-06T00:00:00\")], err = \"\")\n",
       " (code = 0, range = [DateTime(\"2022-04-06T00:00:00\"), DateTime(\"2022-04-13T00:00:00\")], err = \"\")\n",
       " (code = 0, range = [DateTime(\"2022-04-13T00:00:00\"), DateTime(\"2022-04-20T00:00:00\")], err = \"\")\n",
       " (code = 0, range = [DateTime(\"2022-04-20T00:00:00\"), DateTime(\"2022-04-27T00:00:00\")], err = \"\")\n",
       " (code = 0, range = [DateTime(\"2022-04-27T00:00:00\"), DateTime(\"2022-05-04T00:00:00\")], err = \"\")\n",
       " (code = 0, range = [DateTime(\"2022-05-04T00:00:00\"), DateTime(\"2022-05-11T00:00:00\")], err = \"\")\n",
       " (code = 0, range = [DateTime(\"2022-05-11T00:00:00\"), DateTime(\"2022-05-16T00:00:00\")], err = \"\")"
      ]
     },
     "execution_count": 50,
     "metadata": {},
     "output_type": "execute_result"
    }
   ],
   "source": [
    "sav, status = sacct_collect_jobs(\"lcls\", DateTime(\"2020-01-01T00:00:00\"), DateTime(\"2022-05-16T00:00:00\"), Day(7))\n",
    "status"
   ]
  },
  {
   "cell_type": "code",
   "execution_count": 54,
   "id": "0f0e7eb3-60a1-46a4-b97a-23b115408aee",
   "metadata": {},
   "outputs": [
    {
     "data": {
      "text/plain": [
       "NamedTuple{(:code, :range, :err), Tuple{Int64, Vector{DateTime}, String}}[]"
      ]
     },
     "execution_count": 54,
     "metadata": {},
     "output_type": "execute_result"
    }
   ],
   "source": [
    "filter(x->x.code>0, status)"
   ]
  },
  {
   "cell_type": "code",
   "execution_count": 53,
   "id": "c682cdeb-0aa0-4f24-88a4-a41697f0e025",
   "metadata": {},
   "outputs": [],
   "source": [
    "open(joinpath(\"data\", \"sacct\", \"cori_jobs_2020_2022.json\"), \"w\") do f\n",
    "    JSON.print(f, sav, 4)\n",
    "end"
   ]
  },
  {
   "cell_type": "code",
   "execution_count": 73,
   "id": "fec1fa76-d898-45c6-bf8d-1b0431ca275c",
   "metadata": {},
   "outputs": [
    {
     "data": {
      "text/plain": [
       "([\"endTime\", \"workingDirectory\", \"stdinPath\", \"packJobOffset\", \"submitTime\", \"gresUsed\", \"features\", \"startTime\", \"jobDerivedExitCode\", \"licenses\"  …  \"nodes\", \"arrayJobId\", \"timeLimit\", \"argv\", \"allocCpus\", \"reservation\", \"burstBuffer\", \"partition\", \"tresRequest\", \"sdn\"], Set(Tuple{String, DataType}[(\"endTime\", Int64), (\"workingDirectory\", String), (\"stdinPath\", String), (\"packJobOffset\", Int64), (\"submitTime\", Int64), (\"gresUsed\", String), (\"features\", String), (\"startTime\", Int64), (\"jobDerivedExitCode\", Int64), (\"licenses\", String)  …  (\"nodes\", String), (\"arrayJobId\", Int64), (\"timeLimit\", Int64), (\"argv\", Vector{Any}), (\"allocCpus\", Int64), (\"reservation\", String), (\"burstBuffer\", String), (\"partition\", String), (\"tresRequest\", String), (\"sdn\", String)]))"
      ]
     },
     "execution_count": 73,
     "metadata": {},
     "output_type": "execute_result"
    }
   ],
   "source": [
    "column_names, df_columns = get_column_descriptors(sav)"
   ]
  },
  {
   "cell_type": "code",
   "execution_count": 93,
   "id": "f8b84bc1-083f-43da-be36-de584095a572",
   "metadata": {},
   "outputs": [
    {
     "data": {
      "text/plain": [
       "27698103"
      ]
     },
     "execution_count": 93,
     "metadata": {},
     "output_type": "execute_result"
    }
   ],
   "source": [
    "df[2, :][\"jobId\"]"
   ]
  },
  {
   "cell_type": "code",
   "execution_count": 90,
   "id": "67673ee5-d0c8-4dec-80f5-e787139a8610",
   "metadata": {
    "tags": []
   },
   "outputs": [
    {
     "name": "stderr",
     "output_type": "stream",
     "text": [
      "\u001b[32mMerging: 100%|████████████████████████████| Time: 0:05:35 (18.55 ms/it)\u001b[39m\n"
     ]
    },
    {
     "data": {
      "text/html": [
       "<div class=\"data-frame\"><p>18,079 rows × 42 columns (omitted printing of 35 columns)</p><table class=\"data-frame\"><thead><tr><th></th><th>allocCpus</th><th>allocNodes</th><th>arrayJobId</th><th>arrayTaskId</th><th>batchHost</th><th>cluster</th><th>endTime</th></tr><tr><th></th><th title=\"Int64\">Int64</th><th title=\"Int64\">Int64</th><th title=\"Int64\">Int64</th><th title=\"Int64\">Int64</th><th title=\"Union{Missing, String}\">String?</th><th title=\"String\">String</th><th title=\"Int64\">Int64</th></tr></thead><tbody><tr><th>1</th><td>4352</td><td>16</td><td>0</td><td>-2</td><td>nid02440</td><td>cori</td><td>1579901632</td></tr><tr><th>2</th><td>0</td><td>0</td><td>0</td><td>-2</td><td><em>missing</em></td><td>cori</td><td>1580229498</td></tr><tr><th>3</th><td>64</td><td>1</td><td>0</td><td>-2</td><td>nid00090</td><td>cori</td><td>1580426442</td></tr><tr><th>4</th><td>64</td><td>1</td><td>0</td><td>-2</td><td>nid00728</td><td>cori</td><td>1580443476</td></tr><tr><th>5</th><td>64</td><td>1</td><td>0</td><td>-2</td><td>nid00729</td><td>cori</td><td>1580451541</td></tr><tr><th>6</th><td>1344</td><td>21</td><td>0</td><td>-2</td><td>nid00029</td><td>cori</td><td>1580861933</td></tr><tr><th>7</th><td>1344</td><td>21</td><td>0</td><td>-2</td><td>nid00143</td><td>cori</td><td>1580862255</td></tr><tr><th>8</th><td>1344</td><td>21</td><td>0</td><td>-2</td><td>nid00100</td><td>cori</td><td>1580873621</td></tr><tr><th>9</th><td>1344</td><td>21</td><td>0</td><td>-2</td><td>nid00100</td><td>cori</td><td>1580873828</td></tr><tr><th>10</th><td>64</td><td>1</td><td>0</td><td>-2</td><td>nid00523</td><td>cori</td><td>1581081169</td></tr><tr><th>11</th><td>64</td><td>1</td><td>0</td><td>-2</td><td>nid00523</td><td>cori</td><td>1581085124</td></tr><tr><th>12</th><td>64</td><td>1</td><td>0</td><td>-2</td><td>nid00523</td><td>cori</td><td>1581100191</td></tr><tr><th>13</th><td>64</td><td>1</td><td>0</td><td>-2</td><td>nid00523</td><td>cori</td><td>1581104755</td></tr><tr><th>14</th><td>64</td><td>1</td><td>0</td><td>-2</td><td>nid00523</td><td>cori</td><td>1581119234</td></tr><tr><th>15</th><td>1344</td><td>21</td><td>0</td><td>-2</td><td>nid00062</td><td>cori</td><td>1581120976</td></tr><tr><th>16</th><td>64</td><td>1</td><td>0</td><td>-2</td><td>nid00661</td><td>cori</td><td>1581377019</td></tr><tr><th>17</th><td>64</td><td>1</td><td>0</td><td>-2</td><td>nid00600</td><td>cori</td><td>1581377452</td></tr><tr><th>18</th><td>64</td><td>1</td><td>0</td><td>-2</td><td>nid00585</td><td>cori</td><td>1581447594</td></tr><tr><th>19</th><td>64</td><td>1</td><td>0</td><td>-2</td><td>nid00552</td><td>cori</td><td>1581449272</td></tr><tr><th>20</th><td>64</td><td>1</td><td>0</td><td>-2</td><td>nid00552</td><td>cori</td><td>1581449752</td></tr><tr><th>21</th><td>64</td><td>1</td><td>0</td><td>-2</td><td>nid00678</td><td>cori</td><td>1581450632</td></tr><tr><th>22</th><td>64</td><td>1</td><td>0</td><td>-2</td><td>nid00604</td><td>cori</td><td>1581450988</td></tr><tr><th>23</th><td>64</td><td>1</td><td>0</td><td>-2</td><td>nid00570</td><td>cori</td><td>1581451654</td></tr><tr><th>24</th><td>64</td><td>1</td><td>0</td><td>-2</td><td>nid00629</td><td>cori</td><td>1581452123</td></tr><tr><th>25</th><td>64</td><td>1</td><td>0</td><td>-2</td><td>nid01489</td><td>cori</td><td>1581453462</td></tr><tr><th>26</th><td>64</td><td>1</td><td>0</td><td>-2</td><td>nid00685</td><td>cori</td><td>1581453740</td></tr><tr><th>27</th><td>64</td><td>1</td><td>0</td><td>-2</td><td>nid00601</td><td>cori</td><td>1581454581</td></tr><tr><th>28</th><td>64</td><td>1</td><td>0</td><td>-2</td><td>nid00665</td><td>cori</td><td>1581455111</td></tr><tr><th>29</th><td>64</td><td>1</td><td>0</td><td>-2</td><td>nid00684</td><td>cori</td><td>1581456711</td></tr><tr><th>30</th><td>64</td><td>1</td><td>0</td><td>-2</td><td>nid00565</td><td>cori</td><td>1581457504</td></tr><tr><th>&vellip;</th><td>&vellip;</td><td>&vellip;</td><td>&vellip;</td><td>&vellip;</td><td>&vellip;</td><td>&vellip;</td><td>&vellip;</td></tr></tbody></table></div>"
      ],
      "text/latex": [
       "\\begin{tabular}{r|cccccccc}\n",
       "\t& allocCpus & allocNodes & arrayJobId & arrayTaskId & batchHost & cluster & endTime & \\\\\n",
       "\t\\hline\n",
       "\t& Int64 & Int64 & Int64 & Int64 & String? & String & Int64 & \\\\\n",
       "\t\\hline\n",
       "\t1 & 4352 & 16 & 0 & -2 & nid02440 & cori & 1579901632 & $\\dots$ \\\\\n",
       "\t2 & 0 & 0 & 0 & -2 & \\emph{missing} & cori & 1580229498 & $\\dots$ \\\\\n",
       "\t3 & 64 & 1 & 0 & -2 & nid00090 & cori & 1580426442 & $\\dots$ \\\\\n",
       "\t4 & 64 & 1 & 0 & -2 & nid00728 & cori & 1580443476 & $\\dots$ \\\\\n",
       "\t5 & 64 & 1 & 0 & -2 & nid00729 & cori & 1580451541 & $\\dots$ \\\\\n",
       "\t6 & 1344 & 21 & 0 & -2 & nid00029 & cori & 1580861933 & $\\dots$ \\\\\n",
       "\t7 & 1344 & 21 & 0 & -2 & nid00143 & cori & 1580862255 & $\\dots$ \\\\\n",
       "\t8 & 1344 & 21 & 0 & -2 & nid00100 & cori & 1580873621 & $\\dots$ \\\\\n",
       "\t9 & 1344 & 21 & 0 & -2 & nid00100 & cori & 1580873828 & $\\dots$ \\\\\n",
       "\t10 & 64 & 1 & 0 & -2 & nid00523 & cori & 1581081169 & $\\dots$ \\\\\n",
       "\t11 & 64 & 1 & 0 & -2 & nid00523 & cori & 1581085124 & $\\dots$ \\\\\n",
       "\t12 & 64 & 1 & 0 & -2 & nid00523 & cori & 1581100191 & $\\dots$ \\\\\n",
       "\t13 & 64 & 1 & 0 & -2 & nid00523 & cori & 1581104755 & $\\dots$ \\\\\n",
       "\t14 & 64 & 1 & 0 & -2 & nid00523 & cori & 1581119234 & $\\dots$ \\\\\n",
       "\t15 & 1344 & 21 & 0 & -2 & nid00062 & cori & 1581120976 & $\\dots$ \\\\\n",
       "\t16 & 64 & 1 & 0 & -2 & nid00661 & cori & 1581377019 & $\\dots$ \\\\\n",
       "\t17 & 64 & 1 & 0 & -2 & nid00600 & cori & 1581377452 & $\\dots$ \\\\\n",
       "\t18 & 64 & 1 & 0 & -2 & nid00585 & cori & 1581447594 & $\\dots$ \\\\\n",
       "\t19 & 64 & 1 & 0 & -2 & nid00552 & cori & 1581449272 & $\\dots$ \\\\\n",
       "\t20 & 64 & 1 & 0 & -2 & nid00552 & cori & 1581449752 & $\\dots$ \\\\\n",
       "\t21 & 64 & 1 & 0 & -2 & nid00678 & cori & 1581450632 & $\\dots$ \\\\\n",
       "\t22 & 64 & 1 & 0 & -2 & nid00604 & cori & 1581450988 & $\\dots$ \\\\\n",
       "\t23 & 64 & 1 & 0 & -2 & nid00570 & cori & 1581451654 & $\\dots$ \\\\\n",
       "\t24 & 64 & 1 & 0 & -2 & nid00629 & cori & 1581452123 & $\\dots$ \\\\\n",
       "\t25 & 64 & 1 & 0 & -2 & nid01489 & cori & 1581453462 & $\\dots$ \\\\\n",
       "\t26 & 64 & 1 & 0 & -2 & nid00685 & cori & 1581453740 & $\\dots$ \\\\\n",
       "\t27 & 64 & 1 & 0 & -2 & nid00601 & cori & 1581454581 & $\\dots$ \\\\\n",
       "\t28 & 64 & 1 & 0 & -2 & nid00665 & cori & 1581455111 & $\\dots$ \\\\\n",
       "\t29 & 64 & 1 & 0 & -2 & nid00684 & cori & 1581456711 & $\\dots$ \\\\\n",
       "\t30 & 64 & 1 & 0 & -2 & nid00565 & cori & 1581457504 & $\\dots$ \\\\\n",
       "\t$\\dots$ & $\\dots$ & $\\dots$ & $\\dots$ & $\\dots$ & $\\dots$ & $\\dots$ & $\\dots$ &  \\\\\n",
       "\\end{tabular}\n"
      ],
      "text/plain": [
       "\u001b[1m18079×42 DataFrame\u001b[0m\n",
       "\u001b[1m   Row \u001b[0m│\u001b[1m allocCpus \u001b[0m\u001b[1m allocNodes \u001b[0m\u001b[1m arrayJobId \u001b[0m\u001b[1m arrayTaskId \u001b[0m\u001b[1m batchHost \u001b[0m\u001b[1m cluster \u001b[0m\u001b[1m e\u001b[0m ⋯\n",
       "\u001b[1m       \u001b[0m│\u001b[90m Int64     \u001b[0m\u001b[90m Int64      \u001b[0m\u001b[90m Int64      \u001b[0m\u001b[90m Int64       \u001b[0m\u001b[90m String?   \u001b[0m\u001b[90m String  \u001b[0m\u001b[90m I\u001b[0m ⋯\n",
       "───────┼────────────────────────────────────────────────────────────────────────\n",
       "     1 │      4352          16           0           -2  nid02440   cori     1 ⋯\n",
       "     2 │         0           0           0           -2 \u001b[90m missing   \u001b[0m cori     1\n",
       "     3 │        64           1           0           -2  nid00090   cori     1\n",
       "     4 │        64           1           0           -2  nid00728   cori     1\n",
       "     5 │        64           1           0           -2  nid00729   cori     1 ⋯\n",
       "     6 │      1344          21           0           -2  nid00029   cori     1\n",
       "     7 │      1344          21           0           -2  nid00143   cori     1\n",
       "     8 │      1344          21           0           -2  nid00100   cori     1\n",
       "     9 │      1344          21           0           -2  nid00100   cori     1 ⋯\n",
       "    10 │        64           1           0           -2  nid00523   cori     1\n",
       "    11 │        64           1           0           -2  nid00523   cori     1\n",
       "   ⋮   │     ⋮          ⋮           ⋮            ⋮           ⋮         ⋮       ⋱\n",
       " 18070 │        64           1           0   4294967294  nid00028   cori     1\n",
       " 18071 │        64           1           0   4294967294  nid00222   cori     1 ⋯\n",
       " 18072 │        64           1           0   4294967294  nid00020   cori     1\n",
       " 18073 │        64           1           0   4294967294  nid00021   cori     1\n",
       " 18074 │        64           1           0   4294967294  nid00242   cori     1\n",
       " 18075 │         0           0           0   4294967294 \u001b[90m missing   \u001b[0m cori     1 ⋯\n",
       " 18076 │         0           0           0   4294967294 \u001b[90m missing   \u001b[0m cori     1\n",
       " 18077 │         0           0           0   4294967294 \u001b[90m missing   \u001b[0m cori     1\n",
       " 18078 │         0           0           0   4294967294 \u001b[90m missing   \u001b[0m cori     1\n",
       " 18079 │        64           1           0   4294967294  nid00248   cori     1 ⋯\n",
       "\u001b[36m                                               36 columns and 18058 rows omitted\u001b[0m"
      ]
     },
     "execution_count": 90,
     "metadata": {},
     "output_type": "execute_result"
    }
   ],
   "source": [
    "df, merged = to_dataframe(sav)\n",
    "df"
   ]
  },
  {
   "cell_type": "code",
   "execution_count": 88,
   "id": "784cb9e1-40a1-4287-a4e0-36c40a30a0b3",
   "metadata": {},
   "outputs": [
    {
     "data": {
      "text/plain": [
       "Int64[]"
      ]
     },
     "execution_count": 88,
     "metadata": {},
     "output_type": "execute_result"
    }
   ],
   "source": [
    "cm = countmap(df.jobId)\n",
    "filter(x->(cm[x]!=1), df.jobId)"
   ]
  },
  {
   "cell_type": "code",
   "execution_count": 89,
   "id": "216d0cdf-05f8-47e0-a140-498c1aea71e3",
   "metadata": {},
   "outputs": [
    {
     "data": {
      "text/plain": [
       "4"
      ]
     },
     "execution_count": 89,
     "metadata": {},
     "output_type": "execute_result"
    }
   ],
   "source": [
    "write_parquet(\"test.parquet\", df_sav)"
   ]
  },
  {
   "cell_type": "code",
   "execution_count": 70,
   "id": "7ae61088-d15b-4745-b15c-3e01a547e384",
   "metadata": {},
   "outputs": [
    {
     "name": "stdout",
     "output_type": "stream",
     "text": [
      "map((x->begin\n",
      "            #= In[70]:1 =#\n",
      "            x[\"merged_names\"]\n",
      "        end), merged) = [[\"argv\"], [\"argv\"], [\"argv\"], [\"argv\"], [\"argv\"], [\"argv\"], [\"argv\"], [\"argv\"], [\"argv\"], [\"argv\"], [\"argv\"], [\"argv\"], [\"argv\"], [\"argv\"], [\"argv\"], [\"argv\"], [\"argv\"], [\"argv\"], [\"argv\"], [\"argv\"], [\"argv\"], [\"argv\"], [\"argv\"], [\"argv\"], [\"argv\"], [\"argv\"], [\"argv\"], [\"argv\"], [\"argv\"], [\"argv\"], [\"argv\"], [\"argv\"], [\"argv\"], [\"argv\"], [\"argv\"], [\"argv\"], [\"argv\"], [\"argv\"], [\"argv\"], [\"argv\"], [\"argv\"], [\"argv\"], [\"argv\"], [\"argv\"], [\"argv\"], [\"argv\"], [\"argv\"], [\"argv\"], [\"argv\"], [\"argv\"], [\"argv\"], [\"argv\"], [\"argv\"], [\"argv\"], [\"argv\"], [\"argv\"], [\"argv\"], [\"argv\"], [\"argv\"], [\"argv\"], [\"argv\"], [\"argv\"], [\"argv\"], [\"argv\"], [\"argv\"], [\"argv\"], [\"argv\"], [\"argv\"], [\"argv\"], [\"argv\"], [\"argv\"], [\"argv\"], [\"argv\"], [\"argv\"], [\"argv\"], [\"argv\"], [\"argv\"], [\"argv\"], [\"argv\"], [\"argv\"], [\"argv\"], [\"argv\"], [\"argv\"], [\"argv\"], [\"argv\"], [\"argv\"], [\"argv\"], [\"argv\"], [\"argv\"], [\"argv\"], [\"argv\"], [\"argv\"], [\"argv\"], [\"argv\"], [\"argv\"], [\"argv\"], [\"argv\"], [\"argv\"], [\"argv\"], [\"argv\"], [\"argv\"], [\"argv\"], [\"argv\"], [\"argv\"], [\"argv\"], [\"argv\"], [\"argv\"], [\"argv\"], [\"argv\"], [\"argv\"], [\"argv\"], [\"argv\"]]\n"
     ]
    },
    {
     "data": {
      "text/plain": [
       "112-element Vector{Vector{String}}:\n",
       " [\"argv\"]\n",
       " [\"argv\"]\n",
       " [\"argv\"]\n",
       " [\"argv\"]\n",
       " [\"argv\"]\n",
       " [\"argv\"]\n",
       " [\"argv\"]\n",
       " [\"argv\"]\n",
       " [\"argv\"]\n",
       " [\"argv\"]\n",
       " [\"argv\"]\n",
       " [\"argv\"]\n",
       " [\"argv\"]\n",
       " ⋮\n",
       " [\"argv\"]\n",
       " [\"argv\"]\n",
       " [\"argv\"]\n",
       " [\"argv\"]\n",
       " [\"argv\"]\n",
       " [\"argv\"]\n",
       " [\"argv\"]\n",
       " [\"argv\"]\n",
       " [\"argv\"]\n",
       " [\"argv\"]\n",
       " [\"argv\"]\n",
       " [\"argv\"]"
      ]
     },
     "execution_count": 70,
     "metadata": {},
     "output_type": "execute_result"
    }
   ],
   "source": [
    "@show map(x->x[\"merged_names\"], merged)"
   ]
  },
  {
   "cell_type": "code",
   "execution_count": 87,
   "id": "4ba4f9f0-4513-4320-af8c-ab2818a559a1",
   "metadata": {},
   "outputs": [
    {
     "data": {
      "text/plain": [
       "find_diffs (generic function with 1 method)"
      ]
     },
     "execution_count": 87,
     "metadata": {},
     "output_type": "execute_result"
    }
   ],
   "source": [
    "function find_diffs(x)\n",
    "    contain_diffs = String[]\n",
    "    for name in names(x)\n",
    "        col = x[:, name]\n",
    "        if length(unique(col)) > 1\n",
    "            push!(contain_diffs, name)\n",
    "        end\n",
    "    end\n",
    "    contain_diffs\n",
    "end"
   ]
  },
  {
   "cell_type": "code",
   "execution_count": 88,
   "id": "e8132bbf-1f2a-4da8-804e-40c04cd9cdbe",
   "metadata": {},
   "outputs": [
    {
     "data": {
      "text/plain": [
       "1-element Vector{String}:\n",
       " \"argv\""
      ]
     },
     "execution_count": 88,
     "metadata": {},
     "output_type": "execute_result"
    }
   ],
   "source": [
    "find_diffs(df_sav[df_sav.jobId .== 44405291, :])"
   ]
  },
  {
   "cell_type": "code",
   "execution_count": 89,
   "id": "de3d077b-0a3b-4fad-a738-9919375bbb83",
   "metadata": {},
   "outputs": [
    {
     "data": {
      "text/plain": [
       "2-element Vector{Any}:\n",
       " \"/global/u1/v/vpa/project/jpt_no\" ⋯ 76 bytes ⋯ \"ptfcn/run_3ptfcn/batch_3ptcn.sh\"\n",
       " \"9\""
      ]
     },
     "execution_count": 89,
     "metadata": {},
     "output_type": "execute_result"
    }
   ],
   "source": [
    "df_sav[df_sav.jobId .== 44405291, \"argv\"]"
   ]
  },
  {
   "cell_type": "code",
   "execution_count": 90,
   "id": "08c7ea5f-e9da-4dd4-9f56-ec4c1e9cf747",
   "metadata": {},
   "outputs": [
    {
     "data": {
      "text/plain": [
       "2-element Vector{Any}:\n",
       " \"/global/u1/v/vpa/project/jpt_no\" ⋯ 76 bytes ⋯ \"ptfcn/run_3ptfcn/batch_3ptcn.sh\"\n",
       " \"9\""
      ]
     },
     "execution_count": 90,
     "metadata": {},
     "output_type": "execute_result"
    }
   ],
   "source": [
    "filter(x->x[\"jobId\"] == 44405291, sav)[1][\"argv\"]"
   ]
  },
  {
   "cell_type": "code",
   "execution_count": 91,
   "id": "6de506ec-9c2e-4b4a-9425-d47aa4601dbd",
   "metadata": {},
   "outputs": [
    {
     "data": {
      "text/plain": [
       "1-element Vector{String}:\n",
       " \"argv\""
      ]
     },
     "execution_count": 91,
     "metadata": {},
     "output_type": "execute_result"
    }
   ],
   "source": [
    "find_diffs(df_sav[df_sav.jobId .== 44405349, :])"
   ]
  },
  {
   "cell_type": "code",
   "execution_count": 92,
   "id": "8e95eec0-57fa-4631-b5fc-ce240ed53720",
   "metadata": {},
   "outputs": [
    {
     "data": {
      "text/plain": [
       "2-element Vector{Any}:\n",
       " \"/global/u1/v/vpa/project/jpt_no\" ⋯ 76 bytes ⋯ \"ptfcn/run_3ptfcn/batch_3ptcn.sh\"\n",
       " \"0\""
      ]
     },
     "execution_count": 92,
     "metadata": {},
     "output_type": "execute_result"
    }
   ],
   "source": [
    "df_sav[df_sav.jobId .== 44405349, \"argv\"]"
   ]
  },
  {
   "cell_type": "code",
   "execution_count": 93,
   "id": "98fc7a51-d8b5-4325-a81e-4062569bee08",
   "metadata": {},
   "outputs": [
    {
     "data": {
      "text/plain": [
       "1-element Vector{String}:\n",
       " \"argv\""
      ]
     },
     "execution_count": 93,
     "metadata": {},
     "output_type": "execute_result"
    }
   ],
   "source": [
    "find_diffs(df_sav[df_sav.jobId .== 44405355, :])"
   ]
  },
  {
   "cell_type": "code",
   "execution_count": 94,
   "id": "a2192891-d72a-4ae3-9af3-b049d70828f2",
   "metadata": {},
   "outputs": [
    {
     "data": {
      "text/plain": [
       "2-element Vector{Any}:\n",
       " \"/global/u1/v/vpa/project/jpt_no\" ⋯ 76 bytes ⋯ \"ptfcn/run_3ptfcn/batch_3ptcn.sh\"\n",
       " \"3\""
      ]
     },
     "execution_count": 94,
     "metadata": {},
     "output_type": "execute_result"
    }
   ],
   "source": [
    "df_sav[df_sav.jobId .== 44405355, \"argv\"]"
   ]
  },
  {
   "cell_type": "code",
   "execution_count": 95,
   "id": "34d44e5b-3e28-4d99-b4fb-18e5781245f5",
   "metadata": {},
   "outputs": [
    {
     "data": {
      "text/plain": [
       "1-element Vector{String}:\n",
       " \"argv\""
      ]
     },
     "execution_count": 95,
     "metadata": {},
     "output_type": "execute_result"
    }
   ],
   "source": [
    "find_diffs(df_sav[df_sav.jobId .== 44428415, :])"
   ]
  },
  {
   "cell_type": "code",
   "execution_count": 96,
   "id": "13f248ae-cfc6-48dc-9d45-495f2fca58b3",
   "metadata": {},
   "outputs": [
    {
     "data": {
      "text/plain": [
       "7-element Vector{Any}:\n",
       " \"/global/cscratch1/sd/asdufek/pr\" ⋯ 20 bytes ⋯ \"/elpa-hsw/scripts/run_likwid.sh\"\n",
       " \"40000\"\n",
       " \"128\"\n",
       " \"128\"\n",
       " \"32\"\n",
       " \"512\"\n",
       " \"32\""
      ]
     },
     "execution_count": 96,
     "metadata": {},
     "output_type": "execute_result"
    }
   ],
   "source": [
    "df_sav[df_sav.jobId .== 44428415, \"argv\"]"
   ]
  },
  {
   "cell_type": "code",
   "execution_count": 57,
   "id": "85364904-c0d9-4c31-a006-32162b13b1b5",
   "metadata": {},
   "outputs": [
    {
     "name": "stdout",
     "output_type": "stream",
     "text": [
      "\u001b[1m1×11 DataFrame\u001b[0m\n",
      "\u001b[1m Row \u001b[0m│\u001b[1m gresUsed         \u001b[0m\u001b[1m jobDerivedExitCode \u001b[0m\u001b[1m uid    \u001b[0m\u001b[1m originCluster \u001b[0m\u001b[1m minSwitchesAchieved \u001b[0m\u001b[1m batchHost \u001b[0m\u001b[1m argv                              \u001b[0m\u001b[1m burstBuffer \u001b[0m\u001b[1m tresRequest                       \u001b[0m\u001b[1m endTime    \u001b[0m\u001b[1m packJobOffset \u001b[0m\n",
      "\u001b[1m     \u001b[0m│\u001b[90m String?          \u001b[0m\u001b[90m Int64?             \u001b[0m\u001b[90m Int64? \u001b[0m\u001b[90m String?       \u001b[0m\u001b[90m String?             \u001b[0m\u001b[90m String?   \u001b[0m\u001b[90m Array…?                           \u001b[0m\u001b[90m String?     \u001b[0m\u001b[90m String?                           \u001b[0m\u001b[90m Int64?     \u001b[0m\u001b[90m Int64?        \u001b[0m\n",
      "─────┼───────────────────────────────────────────────────────────────────────────────────────────────────────────────────────────────────────────────────────────────────────────────────────────────────────────\n",
      "   1 │ craynetwork:2048                   0   92007 \u001b[90m missing       \u001b[0m true                 nid00792   Any[\"/global/cscratch1/sd/asdufe… \u001b[90m missing     \u001b[0m 1=32768,2=61865984,3=18446744073…  1627205772              0"
     ]
    }
   ],
   "source": [
    "show(df[df.jobId .== 44428415, 1:11], allcols=true)"
   ]
  },
  {
   "cell_type": "code",
   "execution_count": 61,
   "id": "c5ddbd04-41ba-4b79-b683-f5e9f59d9ebf",
   "metadata": {},
   "outputs": [
    {
     "name": "stdout",
     "output_type": "stream",
     "text": [
      "\u001b[1m7×4 DataFrame\u001b[0m\n",
      "\u001b[1m Row \u001b[0m│\u001b[1m shifterImageRequest \u001b[0m\u001b[1m originCluster \u001b[0m\u001b[1m reservation \u001b[0m\u001b[1m burstBuffer \u001b[0m\n",
      "\u001b[1m     \u001b[0m│\u001b[90m String?             \u001b[0m\u001b[90m String?       \u001b[0m\u001b[90m String?     \u001b[0m\u001b[90m String?     \u001b[0m\n",
      "─────┼──────────────────────────────────────────────────────────────\n",
      "   1 │\u001b[90m missing             \u001b[0m\u001b[90m missing       \u001b[0m\u001b[90m missing     \u001b[0m\u001b[90m missing     \u001b[0m\n",
      "   2 │\u001b[90m missing             \u001b[0m\u001b[90m missing       \u001b[0m\u001b[90m missing     \u001b[0m\u001b[90m missing     \u001b[0m\n",
      "   3 │\u001b[90m missing             \u001b[0m\u001b[90m missing       \u001b[0m\u001b[90m missing     \u001b[0m\u001b[90m missing     \u001b[0m\n",
      "   4 │\u001b[90m missing             \u001b[0m\u001b[90m missing       \u001b[0m\u001b[90m missing     \u001b[0m\u001b[90m missing     \u001b[0m\n",
      "   5 │\u001b[90m missing             \u001b[0m\u001b[90m missing       \u001b[0m\u001b[90m missing     \u001b[0m\u001b[90m missing     \u001b[0m\n",
      "   6 │\u001b[90m missing             \u001b[0m\u001b[90m missing       \u001b[0m\u001b[90m missing     \u001b[0m\u001b[90m missing     \u001b[0m\n",
      "   7 │\u001b[90m missing             \u001b[0m\u001b[90m missing       \u001b[0m\u001b[90m missing     \u001b[0m\u001b[90m missing     \u001b[0m"
     ]
    }
   ],
   "source": [
    "show(df_sav[df_sav.jobId .== 44428415, 41:end], allcols=true)"
   ]
  },
  {
   "cell_type": "code",
   "execution_count": 104,
   "id": "9aed5353-0e4f-4646-8cd6-e61b60184de7",
   "metadata": {},
   "outputs": [
    {
     "data": {
      "text/plain": [
       "1-element Vector{Dict{String, Any}}:\n",
       " Dict(\"startTime\" => 1627103723, \"jobDerivedExitCode\" => 256, \"submitTime\" => 1626785981, \"endTime\" => 1627121281, \"gresRequest\" => \"cpu=30,mem=3540G,node=30,billing=30\", \"tresRequest\" => \"1=1920,2=3624960,3=18446744073709551614,4=30,5=1920\", \"allocCpus\" => 1920, \"priority\" => 69940, \"batchHost\" => \"nid00813\", \"jobExitCode\" => 0…)"
      ]
     },
     "execution_count": 104,
     "metadata": {},
     "output_type": "execute_result"
    }
   ],
   "source": [
    "e = filter(x->x[\"jobId\"] == 44405291, sav)"
   ]
  },
  {
   "cell_type": "code",
   "execution_count": 105,
   "id": "f2673c46-416c-44eb-8c9e-27fade4828fb",
   "metadata": {},
   "outputs": [
    {
     "data": {
      "text/plain": [
       "2-element Vector{Any}:\n",
       " \"/global/u1/v/vpa/project/jpt_no\" ⋯ 76 bytes ⋯ \"ptfcn/run_3ptfcn/batch_3ptcn.sh\"\n",
       " \"9\""
      ]
     },
     "execution_count": 105,
     "metadata": {},
     "output_type": "execute_result"
    }
   ],
   "source": [
    "e[1][\"argv\"]"
   ]
  },
  {
   "cell_type": "code",
   "execution_count": 21,
   "id": "7de664f8-119c-436e-afe9-143da3150011",
   "metadata": {},
   "outputs": [
    {
     "data": {
      "text/plain": [
       "true"
      ]
     },
     "execution_count": 21,
     "metadata": {},
     "output_type": "execute_result"
    }
   ],
   "source": [
    "isa_list(e[1][\"argv\"])"
   ]
  },
  {
   "cell_type": "code",
   "execution_count": 106,
   "id": "fb7d12b5-70c5-4340-9ec3-b1669db72560",
   "metadata": {},
   "outputs": [
    {
     "data": {
      "text/html": [
       "<div class=\"data-frame\"><p>1 rows × 33 columns (omitted printing of 30 columns)</p><table class=\"data-frame\"><thead><tr><th></th><th>allocCpus</th><th>allocNodes</th><th>argv</th></tr><tr><th></th><th title=\"Int64\">Int64</th><th title=\"Int64\">Int64</th><th title=\"Vector{Any}\">Array…</th></tr></thead><tbody><tr><th>1</th><td>1920</td><td>30</td><td>[&quot;/global/u1/v/vpa/project/jpt_notebooks/Cosmology/Cosmo_GAN/repositories/cosmogan_pytorch/code/modules_threeptfcn/run_3ptfcn/batch_3ptcn.sh&quot;, &quot;9&quot;]</td></tr></tbody></table></div>"
      ],
      "text/latex": [
       "\\begin{tabular}{r|cccc}\n",
       "\t& allocCpus & allocNodes & argv & \\\\\n",
       "\t\\hline\n",
       "\t& Int64 & Int64 & Array… & \\\\\n",
       "\t\\hline\n",
       "\t1 & 1920 & 30 & [\"/global/u1/v/vpa/project/jpt\\_notebooks/Cosmology/Cosmo\\_GAN/repositories/cosmogan\\_pytorch/code/modules\\_threeptfcn/run\\_3ptfcn/batch\\_3ptcn.sh\", \"9\"] & $\\dots$ \\\\\n",
       "\\end{tabular}\n"
      ],
      "text/plain": [
       "\u001b[1m1×33 DataFrame\u001b[0m\n",
       "\u001b[1m Row \u001b[0m│\u001b[1m allocCpus \u001b[0m\u001b[1m allocNodes \u001b[0m\u001b[1m argv                              \u001b[0m\u001b[1m arrayJobId \u001b[0m\u001b[1m a\u001b[0m ⋯\n",
       "\u001b[1m     \u001b[0m│\u001b[90m Int64     \u001b[0m\u001b[90m Int64      \u001b[0m\u001b[90m Array…                            \u001b[0m\u001b[90m Int64      \u001b[0m\u001b[90m I\u001b[0m ⋯\n",
       "─────┼──────────────────────────────────────────────────────────────────────────\n",
       "   1 │      1920          30  Any[\"/global/u1/v/vpa/project/jp…           0    ⋯\n",
       "\u001b[36m                                                              29 columns omitted\u001b[0m"
      ]
     },
     "execution_count": 106,
     "metadata": {},
     "output_type": "execute_result"
    }
   ],
   "source": [
    "DataFrame(e)"
   ]
  },
  {
   "cell_type": "code",
   "execution_count": 109,
   "id": "87264e5e-8e85-483a-b115-2d8f15ff4d65",
   "metadata": {},
   "outputs": [
    {
     "data": {
      "text/plain": [
       "Base.RefValue{Vector{Any}}(Any[\"/global/u1/v/vpa/project/jpt_notebooks/Cosmology/Cosmo_GAN/repositories/cosmogan_pytorch/code/modules_threeptfcn/run_3ptfcn/batch_3ptcn.sh\", \"9\"])"
      ]
     },
     "execution_count": 109,
     "metadata": {},
     "output_type": "execute_result"
    }
   ],
   "source": [
    "e[\"argv\"]"
   ]
  },
  {
   "cell_type": "code",
   "execution_count": 107,
   "id": "7a9553f1-2de2-4305-a2cf-7a8d6b6faf8f",
   "metadata": {},
   "outputs": [
    {
     "name": "stdout",
     "output_type": "stream",
     "text": [
      "search: \u001b[0m\u001b[1mR\u001b[22m\u001b[0m\u001b[1me\u001b[22m\u001b[0m\u001b[1mf\u001b[22m Weak\u001b[0m\u001b[1mR\u001b[22m\u001b[0m\u001b[1me\u001b[22m\u001b[0m\u001b[1mf\u001b[22m p\u001b[0m\u001b[1mr\u001b[22m\u001b[0m\u001b[1me\u001b[22mv\u001b[0m\u001b[1mf\u001b[22mloat chopp\u001b[0m\u001b[1mr\u001b[22m\u001b[0m\u001b[1me\u001b[22m\u001b[0m\u001b[1mf\u001b[22mix Undef\u001b[0m\u001b[1mR\u001b[22m\u001b[0m\u001b[1me\u001b[22m\u001b[0m\u001b[1mf\u001b[22mError Global\u001b[0m\u001b[1mR\u001b[22m\u001b[0m\u001b[1me\u001b[22m\u001b[0m\u001b[1mf\u001b[22m qua\u001b[0m\u001b[1mr\u001b[22mt\u001b[0m\u001b[1me\u001b[22mro\u001b[0m\u001b[1mf\u001b[22myear\n",
      "\n"
     ]
    },
    {
     "data": {
      "text/latex": [
       "\\begin{verbatim}\n",
       "Ref{T}\n",
       "\\end{verbatim}\n",
       "An object that safely references data of type \\texttt{T}. This type is guaranteed to point to valid, Julia-allocated memory of the correct type. The underlying data is protected from freeing by the garbage collector as long as the \\texttt{Ref} itself is referenced.\n",
       "\n",
       "In Julia, \\texttt{Ref} objects are dereferenced (loaded or stored) with \\texttt{[]}.\n",
       "\n",
       "Creation of a \\texttt{Ref} to a value \\texttt{x} of type \\texttt{T} is usually written \\texttt{Ref(x)}. Additionally, for creating interior pointers to containers (such as Array or Ptr), it can be written \\texttt{Ref(a, i)} for creating a reference to the \\texttt{i}-th element of \\texttt{a}.\n",
       "\n",
       "\\texttt{Ref\\{T\\}()} creates a reference to a value of type \\texttt{T} without initialization. For a bitstype \\texttt{T}, the value will be whatever currently resides in the memory allocated. For a non-bitstype \\texttt{T}, the reference will be undefined and attempting to dereference it will result in an error, \"UndefRefError: access to undefined reference\".\n",
       "\n",
       "To check if a \\texttt{Ref} is an undefined reference, use \\href{@ref}{\\texttt{isassigned(ref::RefValue)}}. For example, \\texttt{isassigned(Ref\\{T\\}())} is \\texttt{false} if \\texttt{T} is not a bitstype. If \\texttt{T} is a bitstype, \\texttt{isassigned(Ref\\{T\\}())} will always be true.\n",
       "\n",
       "When passed as a \\texttt{ccall} argument (either as a \\texttt{Ptr} or \\texttt{Ref} type), a \\texttt{Ref} object will be converted to a native pointer to the data it references. For most \\texttt{T}, or when converted to a \\texttt{Ptr\\{Cvoid\\}}, this is a pointer to the object data. When \\texttt{T} is an \\texttt{isbits} type, this value may be safely mutated, otherwise mutation is strictly undefined behavior.\n",
       "\n",
       "As a special case, setting \\texttt{T = Any} will instead cause the creation of a pointer to the reference itself when converted to a \\texttt{Ptr\\{Any\\}} (a \\texttt{jl\\_value\\_t const* const*} if T is immutable, else a \\texttt{jl\\_value\\_t *const *}). When converted to a \\texttt{Ptr\\{Cvoid\\}}, it will still return a pointer to the data region as for any other \\texttt{T}.\n",
       "\n",
       "A \\texttt{C\\_NULL} instance of \\texttt{Ptr} can be passed to a \\texttt{ccall} \\texttt{Ref} argument to initialize it.\n",
       "\n",
       "\\section{Use in broadcasting}\n",
       "\\texttt{Ref} is sometimes used in broadcasting in order to treat the referenced values as a scalar.\n",
       "\n",
       "\\section{Examples}\n",
       "\\begin{verbatim}\n",
       "julia> Ref(5)\n",
       "Base.RefValue{Int64}(5)\n",
       "\n",
       "julia> isa.(Ref([1,2,3]), [Array, Dict, Int]) # Treat reference values as scalar during broadcasting\n",
       "3-element BitVector:\n",
       " 1\n",
       " 0\n",
       " 0\n",
       "\n",
       "julia> Ref{Function}()  # Undefined reference to a non-bitstype, Function\n",
       "Base.RefValue{Function}(#undef)\n",
       "\n",
       "julia> try\n",
       "           Ref{Function}()[] # Dereferencing an undefined reference will result in an error\n",
       "       catch e\n",
       "           println(e)\n",
       "       end\n",
       "UndefRefError()\n",
       "\n",
       "julia> Ref{Int64}()[]; # A reference to a bitstype refers to an undetermined value if not given\n",
       "\n",
       "julia> isassigned(Ref{Int64}()) # A reference to a bitstype is always assigned\n",
       "true\n",
       "\n",
       "julia> Ref{Int64}(0)[] == 0 # Explicitly give a value for a bitstype reference\n",
       "true\n",
       "\\end{verbatim}\n"
      ],
      "text/markdown": [
       "```\n",
       "Ref{T}\n",
       "```\n",
       "\n",
       "An object that safely references data of type `T`. This type is guaranteed to point to valid, Julia-allocated memory of the correct type. The underlying data is protected from freeing by the garbage collector as long as the `Ref` itself is referenced.\n",
       "\n",
       "In Julia, `Ref` objects are dereferenced (loaded or stored) with `[]`.\n",
       "\n",
       "Creation of a `Ref` to a value `x` of type `T` is usually written `Ref(x)`. Additionally, for creating interior pointers to containers (such as Array or Ptr), it can be written `Ref(a, i)` for creating a reference to the `i`-th element of `a`.\n",
       "\n",
       "`Ref{T}()` creates a reference to a value of type `T` without initialization. For a bitstype `T`, the value will be whatever currently resides in the memory allocated. For a non-bitstype `T`, the reference will be undefined and attempting to dereference it will result in an error, \"UndefRefError: access to undefined reference\".\n",
       "\n",
       "To check if a `Ref` is an undefined reference, use [`isassigned(ref::RefValue)`](@ref). For example, `isassigned(Ref{T}())` is `false` if `T` is not a bitstype. If `T` is a bitstype, `isassigned(Ref{T}())` will always be true.\n",
       "\n",
       "When passed as a `ccall` argument (either as a `Ptr` or `Ref` type), a `Ref` object will be converted to a native pointer to the data it references. For most `T`, or when converted to a `Ptr{Cvoid}`, this is a pointer to the object data. When `T` is an `isbits` type, this value may be safely mutated, otherwise mutation is strictly undefined behavior.\n",
       "\n",
       "As a special case, setting `T = Any` will instead cause the creation of a pointer to the reference itself when converted to a `Ptr{Any}` (a `jl_value_t const* const*` if T is immutable, else a `jl_value_t *const *`). When converted to a `Ptr{Cvoid}`, it will still return a pointer to the data region as for any other `T`.\n",
       "\n",
       "A `C_NULL` instance of `Ptr` can be passed to a `ccall` `Ref` argument to initialize it.\n",
       "\n",
       "# Use in broadcasting\n",
       "\n",
       "`Ref` is sometimes used in broadcasting in order to treat the referenced values as a scalar.\n",
       "\n",
       "# Examples\n",
       "\n",
       "```jldoctest\n",
       "julia> Ref(5)\n",
       "Base.RefValue{Int64}(5)\n",
       "\n",
       "julia> isa.(Ref([1,2,3]), [Array, Dict, Int]) # Treat reference values as scalar during broadcasting\n",
       "3-element BitVector:\n",
       " 1\n",
       " 0\n",
       " 0\n",
       "\n",
       "julia> Ref{Function}()  # Undefined reference to a non-bitstype, Function\n",
       "Base.RefValue{Function}(#undef)\n",
       "\n",
       "julia> try\n",
       "           Ref{Function}()[] # Dereferencing an undefined reference will result in an error\n",
       "       catch e\n",
       "           println(e)\n",
       "       end\n",
       "UndefRefError()\n",
       "\n",
       "julia> Ref{Int64}()[]; # A reference to a bitstype refers to an undetermined value if not given\n",
       "\n",
       "julia> isassigned(Ref{Int64}()) # A reference to a bitstype is always assigned\n",
       "true\n",
       "\n",
       "julia> Ref{Int64}(0)[] == 0 # Explicitly give a value for a bitstype reference\n",
       "true\n",
       "```\n"
      ],
      "text/plain": [
       "\u001b[36m  Ref{T}\u001b[39m\n",
       "\n",
       "  An object that safely references data of type \u001b[36mT\u001b[39m. This type is guaranteed to\n",
       "  point to valid, Julia-allocated memory of the correct type. The underlying\n",
       "  data is protected from freeing by the garbage collector as long as the \u001b[36mRef\u001b[39m\n",
       "  itself is referenced.\n",
       "\n",
       "  In Julia, \u001b[36mRef\u001b[39m objects are dereferenced (loaded or stored) with \u001b[36m[]\u001b[39m.\n",
       "\n",
       "  Creation of a \u001b[36mRef\u001b[39m to a value \u001b[36mx\u001b[39m of type \u001b[36mT\u001b[39m is usually written \u001b[36mRef(x)\u001b[39m.\n",
       "  Additionally, for creating interior pointers to containers (such as Array or\n",
       "  Ptr), it can be written \u001b[36mRef(a, i)\u001b[39m for creating a reference to the \u001b[36mi\u001b[39m-th\n",
       "  element of \u001b[36ma\u001b[39m.\n",
       "\n",
       "  \u001b[36mRef{T}()\u001b[39m creates a reference to a value of type \u001b[36mT\u001b[39m without initialization.\n",
       "  For a bitstype \u001b[36mT\u001b[39m, the value will be whatever currently resides in the memory\n",
       "  allocated. For a non-bitstype \u001b[36mT\u001b[39m, the reference will be undefined and\n",
       "  attempting to dereference it will result in an error, \"UndefRefError: access\n",
       "  to undefined reference\".\n",
       "\n",
       "  To check if a \u001b[36mRef\u001b[39m is an undefined reference, use \u001b[36misassigned(ref::RefValue)\u001b[39m.\n",
       "  For example, \u001b[36misassigned(Ref{T}())\u001b[39m is \u001b[36mfalse\u001b[39m if \u001b[36mT\u001b[39m is not a bitstype. If \u001b[36mT\u001b[39m is a\n",
       "  bitstype, \u001b[36misassigned(Ref{T}())\u001b[39m will always be true.\n",
       "\n",
       "  When passed as a \u001b[36mccall\u001b[39m argument (either as a \u001b[36mPtr\u001b[39m or \u001b[36mRef\u001b[39m type), a \u001b[36mRef\u001b[39m object\n",
       "  will be converted to a native pointer to the data it references. For most \u001b[36mT\u001b[39m,\n",
       "  or when converted to a \u001b[36mPtr{Cvoid}\u001b[39m, this is a pointer to the object data.\n",
       "  When \u001b[36mT\u001b[39m is an \u001b[36misbits\u001b[39m type, this value may be safely mutated, otherwise\n",
       "  mutation is strictly undefined behavior.\n",
       "\n",
       "  As a special case, setting \u001b[36mT = Any\u001b[39m will instead cause the creation of a\n",
       "  pointer to the reference itself when converted to a \u001b[36mPtr{Any}\u001b[39m (a \u001b[36mjl_value_t\n",
       "  const* const*\u001b[39m if T is immutable, else a \u001b[36mjl_value_t *const *\u001b[39m). When converted\n",
       "  to a \u001b[36mPtr{Cvoid}\u001b[39m, it will still return a pointer to the data region as for\n",
       "  any other \u001b[36mT\u001b[39m.\n",
       "\n",
       "  A \u001b[36mC_NULL\u001b[39m instance of \u001b[36mPtr\u001b[39m can be passed to a \u001b[36mccall\u001b[39m \u001b[36mRef\u001b[39m argument to initialize\n",
       "  it.\n",
       "\n",
       "\u001b[1m  Use in broadcasting\u001b[22m\n",
       "\u001b[1m  ≡≡≡≡≡≡≡≡≡≡≡≡≡≡≡≡≡≡≡≡≡\u001b[22m\n",
       "\n",
       "  \u001b[36mRef\u001b[39m is sometimes used in broadcasting in order to treat the referenced\n",
       "  values as a scalar.\n",
       "\n",
       "\u001b[1m  Examples\u001b[22m\n",
       "\u001b[1m  ≡≡≡≡≡≡≡≡≡≡\u001b[22m\n",
       "\n",
       "\u001b[36m  julia> Ref(5)\u001b[39m\n",
       "\u001b[36m  Base.RefValue{Int64}(5)\u001b[39m\n",
       "\u001b[36m  \u001b[39m\n",
       "\u001b[36m  julia> isa.(Ref([1,2,3]), [Array, Dict, Int]) # Treat reference values as scalar during broadcasting\u001b[39m\n",
       "\u001b[36m  3-element BitVector:\u001b[39m\n",
       "\u001b[36m   1\u001b[39m\n",
       "\u001b[36m   0\u001b[39m\n",
       "\u001b[36m   0\u001b[39m\n",
       "\u001b[36m  \u001b[39m\n",
       "\u001b[36m  julia> Ref{Function}()  # Undefined reference to a non-bitstype, Function\u001b[39m\n",
       "\u001b[36m  Base.RefValue{Function}(#undef)\u001b[39m\n",
       "\u001b[36m  \u001b[39m\n",
       "\u001b[36m  julia> try\u001b[39m\n",
       "\u001b[36m             Ref{Function}()[] # Dereferencing an undefined reference will result in an error\u001b[39m\n",
       "\u001b[36m         catch e\u001b[39m\n",
       "\u001b[36m             println(e)\u001b[39m\n",
       "\u001b[36m         end\u001b[39m\n",
       "\u001b[36m  UndefRefError()\u001b[39m\n",
       "\u001b[36m  \u001b[39m\n",
       "\u001b[36m  julia> Ref{Int64}()[]; # A reference to a bitstype refers to an undetermined value if not given\u001b[39m\n",
       "\u001b[36m  \u001b[39m\n",
       "\u001b[36m  julia> isassigned(Ref{Int64}()) # A reference to a bitstype is always assigned\u001b[39m\n",
       "\u001b[36m  true\u001b[39m\n",
       "\u001b[36m  \u001b[39m\n",
       "\u001b[36m  julia> Ref{Int64}(0)[] == 0 # Explicitly give a value for a bitstype reference\u001b[39m\n",
       "\u001b[36m  true\u001b[39m"
      ]
     },
     "execution_count": 107,
     "metadata": {},
     "output_type": "execute_result"
    }
   ],
   "source": [
    "?Ref"
   ]
  },
  {
   "cell_type": "code",
   "execution_count": null,
   "id": "6f470e83-9caf-43f3-b38b-698730f09758",
   "metadata": {},
   "outputs": [],
   "source": []
  },
  {
   "cell_type": "code",
   "execution_count": null,
   "id": "54e14097-b31c-452e-be09-9963141b0def",
   "metadata": {},
   "outputs": [],
   "source": []
  },
  {
   "cell_type": "code",
   "execution_count": null,
   "id": "1d85ae52-2ac9-41da-8fe3-a4fe1dff9265",
   "metadata": {},
   "outputs": [],
   "source": []
  },
  {
   "cell_type": "code",
   "execution_count": null,
   "id": "8f30d9eb-2ac6-43af-9619-d56b4d661f25",
   "metadata": {},
   "outputs": [],
   "source": []
  },
  {
   "cell_type": "code",
   "execution_count": null,
   "id": "a35d3bab-a179-4e6b-ae18-4209e7d3fb67",
   "metadata": {},
   "outputs": [],
   "source": []
  },
  {
   "cell_type": "code",
   "execution_count": null,
   "id": "e630394f-2f7a-47e5-9752-8d303e0dcaf6",
   "metadata": {},
   "outputs": [],
   "source": []
  },
  {
   "cell_type": "code",
   "execution_count": null,
   "id": "61a5593a-6234-4fbc-9ba7-4b120e837d5b",
   "metadata": {},
   "outputs": [],
   "source": []
  },
  {
   "cell_type": "code",
   "execution_count": null,
   "id": "32f3aeb2-268b-4a6c-a313-4aece5ac7d72",
   "metadata": {},
   "outputs": [],
   "source": []
  },
  {
   "cell_type": "code",
   "execution_count": null,
   "id": "26519f7c-b1cb-4e75-91ef-9ead74f046fa",
   "metadata": {},
   "outputs": [],
   "source": []
  },
  {
   "cell_type": "code",
   "execution_count": null,
   "id": "e0844b92-4f5c-446e-ab55-110c93f32e90",
   "metadata": {},
   "outputs": [],
   "source": []
  },
  {
   "cell_type": "code",
   "execution_count": null,
   "id": "305388fd-6764-46c1-bb49-c6b049667e7d",
   "metadata": {},
   "outputs": [],
   "source": []
  },
  {
   "cell_type": "code",
   "execution_count": null,
   "id": "b4020754-02e7-40fb-9d00-72b7fdb23bb6",
   "metadata": {},
   "outputs": [],
   "source": []
  },
  {
   "cell_type": "code",
   "execution_count": null,
   "id": "68263d8e-4f89-41e7-8207-1ededbbcf51d",
   "metadata": {},
   "outputs": [],
   "source": []
  },
  {
   "cell_type": "code",
   "execution_count": null,
   "id": "e961a669-5436-4965-b3c6-c7962bd635f1",
   "metadata": {},
   "outputs": [],
   "source": []
  },
  {
   "cell_type": "code",
   "execution_count": null,
   "id": "38bdc941-6ae6-4bfb-abf2-2ed94ee6792a",
   "metadata": {},
   "outputs": [],
   "source": []
  },
  {
   "cell_type": "code",
   "execution_count": null,
   "id": "d64ff2a0-65b7-48c2-903f-5e18ce8eedb1",
   "metadata": {},
   "outputs": [],
   "source": []
  },
  {
   "cell_type": "code",
   "execution_count": null,
   "id": "4d79b5d7-9201-4ddd-b338-ce58582537da",
   "metadata": {},
   "outputs": [],
   "source": []
  },
  {
   "cell_type": "code",
   "execution_count": 12,
   "id": "96876818-a9bd-4066-94c1-7d15e8c0e83d",
   "metadata": {},
   "outputs": [
    {
     "data": {
      "text/plain": [
       "SlurmCLI.QueryResult(nothing, \"sacct: error: Start time (2021-07-23T00:00:00) requested is after end time (2021-07-20T00:00:00).\\n\", 1)"
      ]
     },
     "execution_count": 12,
     "metadata": {},
     "output_type": "execute_result"
    }
   ],
   "source": [
    "r = sacct_get_jobs(\n",
    "    account=\"lcls\",\n",
    "    starttime=DateTime(2021, 07, 23, 00, 00, 00),\n",
    "    endtime=DateTime(2021, 07, 20, 00, 00, 00)\n",
    ")"
   ]
  },
  {
   "cell_type": "code",
   "execution_count": null,
   "id": "5d1b62a7-5f44-47e4-8a41-4dfff762442a",
   "metadata": {},
   "outputs": [],
   "source": []
  },
  {
   "cell_type": "code",
   "execution_count": null,
   "id": "a850ed85-ad15-44dd-8480-00c5d3f8cc44",
   "metadata": {},
   "outputs": [],
   "source": []
  },
  {
   "cell_type": "code",
   "execution_count": 11,
   "id": "44a48461-97de-4852-af33-5def54c224e7",
   "metadata": {},
   "outputs": [
    {
     "data": {
      "text/plain": [
       "Any[]"
      ]
     },
     "execution_count": 11,
     "metadata": {},
     "output_type": "execute_result"
    }
   ],
   "source": [
    "r.result"
   ]
  },
  {
   "cell_type": "code",
   "execution_count": 7,
   "id": "dfcf3c11-aebf-4567-9870-5cefe4b69381",
   "metadata": {},
   "outputs": [
    {
     "data": {
      "text/plain": [
       "0"
      ]
     },
     "execution_count": 7,
     "metadata": {},
     "output_type": "execute_result"
    }
   ],
   "source": [
    "r.code"
   ]
  },
  {
   "cell_type": "code",
   "execution_count": 37,
   "id": "d8d19445-d5d4-48cb-9af4-b630452c106e",
   "metadata": {},
   "outputs": [
    {
     "data": {
      "text/plain": [
       "\"/global/cscratch1/sd/blaschke\""
      ]
     },
     "execution_count": 37,
     "metadata": {},
     "output_type": "execute_result"
    }
   ],
   "source": [
    "ENV[\"SCRATCH\"]"
   ]
  },
  {
   "cell_type": "code",
   "execution_count": 55,
   "id": "70f1c55a-9186-4bcb-81b6-1c3330e76254",
   "metadata": {},
   "outputs": [],
   "source": [
    "out, err, code = shell(`ls`);"
   ]
  },
  {
   "cell_type": "code",
   "execution_count": 57,
   "id": "70a4fcf8-e7be-43c2-ad05-19b96679f6fc",
   "metadata": {},
   "outputs": [
    {
     "name": "stdout",
     "output_type": "stream",
     "text": [
      "2020.ipynb\n",
      "2021.ipynb\n",
      "2021_urgent-hpc.ipynb\n",
      "README.md\n",
      "SlurmCLI\n",
      "data\n",
      "sacct.ipynb\n",
      "\n"
     ]
    }
   ],
   "source": [
    "println(out)"
   ]
  },
  {
   "cell_type": "code",
   "execution_count": 60,
   "id": "03bc4e61-c867-476f-8753-43f8864a7bc2",
   "metadata": {},
   "outputs": [
    {
     "data": {
      "text/plain": [
       "7-element Vector{SubString{String}}:\n",
       " \"2020.ipynb\"\n",
       " \"2021.ipynb\"\n",
       " \"2021_urgent-hpc.ipynb\"\n",
       " \"README.md\"\n",
       " \"SlurmCLI\"\n",
       " \"data\"\n",
       " \"sacct.ipynb\""
      ]
     },
     "execution_count": 60,
     "metadata": {},
     "output_type": "execute_result"
    }
   ],
   "source": [
    "split(out)"
   ]
  },
  {
   "cell_type": "code",
   "execution_count": 52,
   "id": "5f42cbf7-bf60-409e-be94-d54665f167b7",
   "metadata": {},
   "outputs": [
    {
     "data": {
      "text/plain": [
       "0"
      ]
     },
     "execution_count": 52,
     "metadata": {},
     "output_type": "execute_result"
    }
   ],
   "source": [
    "x.code"
   ]
  },
  {
   "cell_type": "code",
   "execution_count": 20,
   "id": "76b03f93-d87a-426e-b490-64a9b0678fa8",
   "metadata": {},
   "outputs": [
    {
     "name": "stdout",
     "output_type": "stream",
     "text": [
      "search: \u001b[0m\u001b[1ms\u001b[22mc\u001b[0m\u001b[1mh\u001b[22m\u001b[0m\u001b[1me\u001b[22mdu\u001b[0m\u001b[1ml\u001b[22me \u001b[0m\u001b[1ms\u001b[22mearc\u001b[0m\u001b[1mh\u001b[22msort\u001b[0m\u001b[1me\u001b[22md\u001b[0m\u001b[1ml\u001b[22mast Ab\u001b[0m\u001b[1ms\u001b[22mtractC\u001b[0m\u001b[1mh\u001b[22mann\u001b[0m\u001b[1me\u001b[22m\u001b[0m\u001b[1ml\u001b[22m\n",
      "\n",
      "Couldn't find \u001b[36mshell\u001b[39m\n",
      "Perhaps you meant help, show, sech, sec, secd, seek, sleep, step, isreal or all\n"
     ]
    },
    {
     "data": {
      "text/latex": [
       "No documentation found.\n",
       "\n",
       "Binding \\texttt{shell} does not exist.\n",
       "\n"
      ],
      "text/markdown": [
       "No documentation found.\n",
       "\n",
       "Binding `shell` does not exist.\n"
      ],
      "text/plain": [
       "  No documentation found.\n",
       "\n",
       "  Binding \u001b[36mshell\u001b[39m does not exist."
      ]
     },
     "execution_count": 20,
     "metadata": {},
     "output_type": "execute_result"
    }
   ],
   "source": [
    "?shell"
   ]
  },
  {
   "cell_type": "code",
   "execution_count": 31,
   "id": "2954355a-16bf-46de-a616-0088bd4b4487",
   "metadata": {},
   "outputs": [
    {
     "name": "stdout",
     "output_type": "stream",
     "text": [
      "startTime 1628343143\n",
      "jobDerivedExitCode 0\n",
      "submitTime 1617414051\n",
      "endTime 1628343181\n",
      "gresRequest cpu=1,node=1,billing=1\n",
      "tresRequest 1=64,2=120832,3=18446744073709551614,4=1,5=64\n",
      "gresUsed craynetwork:4\n",
      "priority 70005\n",
      "batchHost nid00817\n",
      "licenses cscratch1:1\n",
      "packJobId 0\n",
      "name 12380_278863_-7\n",
      "jobId 41312612\n",
      "allocNodes 1\n",
      "jobAccount m3550\n",
      "jobExitCode 0\n",
      "allocCpus 64\n",
      "resizing 0\n",
      "uid 91828\n",
      "argv Any[\"/global/u2/v/villotc/DES15K_SAPT23/calc_DES15K/natom5/12380_278863_-7.pbs\"]\n",
      "reboot 0\n",
      "arrayTaskId 4294967294\n",
      "timeLimit 900\n",
      "cluster cori\n",
      "stdinPath /dev/null\n",
      "restartCnt 0\n",
      "nodes nid00817\n",
      "arrayJobId 0\n",
      "features haswell\n",
      "qos regular_1\n",
      "workingDirectory /global/u2/v/villotc/DES15K_SAPT23/calc_DES15K/natom5\n",
      "partition regular_hsw\n",
      "packJobOffset 0\n"
     ]
    }
   ],
   "source": [
    "for i in keys(sav[1])\n",
    "    println(i, ' ', sav[1][i])\n",
    "end"
   ]
  },
  {
   "cell_type": "code",
   "execution_count": null,
   "id": "9a75b664-8e4a-4ec7-9105-3b95d8550b44",
   "metadata": {},
   "outputs": [],
   "source": []
  },
  {
   "cell_type": "code",
   "execution_count": 8,
   "id": "7bfe1a39-34e4-447f-81b9-2b0b9155fd6d",
   "metadata": {},
   "outputs": [],
   "source": [
    "lx31_jobs = Dict(\n",
    "    \"lx31_1\"  => sacct_get_jobs(lx31_1),\n",
    "    \"lx31_1a\" => sacct_get_jobs(lx31_1a),\n",
    "    \"lx31_2\"  => sacct_get_jobs(lx31_2)\n",
    ")\n",
    "lv07_jobs = Dict(\n",
    "    \"lv07_1\" => sacct_get_jobs(lv07_1),\n",
    "    \"lv07_2\" => sacct_get_jobs(lv07_2),\n",
    "    \"lv07_3\" => sacct_get_jobs(lv07_3),\n",
    "    \"lv07_4\" => sacct_get_jobs(lv07_4)\n",
    ")\n",
    "p203_jobs = Dict(\n",
    "    \"p203_1\" => sacct_get_jobs(p203_1),\n",
    "    \"p203_2\" => sacct_get_jobs(p203_2),\n",
    "    \"p203_3\" => sacct_get_jobs(p203_3)\n",
    ")\n",
    "\n",
    ";"
   ]
  },
  {
   "cell_type": "code",
   "execution_count": 9,
   "id": "58e85c69-7251-418c-a644-b6576593ba8a",
   "metadata": {},
   "outputs": [],
   "source": [
    "open(joinpath(\"data\", \"sacct\", \"lx31_jobs.json\"), \"w\") do f\n",
    "    JSON.print(f, lx31_jobs, 4)\n",
    "end\n",
    "\n",
    "open(joinpath(\"data\", \"sacct\", \"lv07_jobs.json\"), \"w\") do f\n",
    "    JSON.print(f, lv07_jobs, 4)\n",
    "end\n",
    "\n",
    "open(joinpath(\"data\", \"sacct\", \"p203_jobs.json\"), \"w\") do f\n",
    "    JSON.print(f, p203_jobs, 4)\n",
    "end"
   ]
  },
  {
   "cell_type": "code",
   "execution_count": null,
   "id": "0e68c717-5ddc-4f44-b1a1-9db0d211d783",
   "metadata": {},
   "outputs": [],
   "source": []
  }
 ],
 "metadata": {
  "kernelspec": {
   "display_name": "Julia 1.8.3",
   "language": "julia",
   "name": "julia-1.8"
  },
  "language_info": {
   "file_extension": ".jl",
   "mimetype": "application/julia",
   "name": "julia",
   "version": "1.7.1"
  }
 },
 "nbformat": 4,
 "nbformat_minor": 5
}
