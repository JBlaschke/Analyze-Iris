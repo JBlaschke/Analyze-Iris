{
 "cells": [
  {
   "cell_type": "code",
   "execution_count": 1,
   "id": "5e5f53bc-81cb-4b7b-bb9e-d6616934b964",
   "metadata": {},
   "outputs": [],
   "source": [
    "using Distributed"
   ]
  },
  {
   "cell_type": "code",
   "execution_count": 2,
   "id": "e3341ccb-f00c-4650-8c9e-e7018baa3986",
   "metadata": {},
   "outputs": [
    {
     "data": {
      "text/plain": [
       "4-element Vector{Int64}:\n",
       " 2\n",
       " 3\n",
       " 4\n",
       " 5"
      ]
     },
     "execution_count": 2,
     "metadata": {},
     "output_type": "execute_result"
    }
   ],
   "source": [
    "addprocs(4)"
   ]
  },
  {
   "cell_type": "code",
   "execution_count": 3,
   "id": "93be0e2e-13ad-4f93-ad22-e5e3168e6e76",
   "metadata": {},
   "outputs": [
    {
     "name": "stdout",
     "output_type": "stream",
     "text": [
      "      From worker 5:\t\u001b[32m\u001b[1m  Activating\u001b[22m\u001b[39m project at `/global/u1/b/blaschke/analyze-iris/SlurmCLI`\n",
      "      From worker 3:\t\u001b[32m\u001b[1m  Activating\u001b[22m\u001b[39m project at `/global/u1/b/blaschke/analyze-iris/SlurmCLI`\n",
      "      From worker 4:\t\u001b[32m\u001b[1m  Activating\u001b[22m\u001b[39m project at `/global/u1/b/blaschke/analyze-iris/SlurmCLI`\n",
      "      From worker 2:\t\u001b[32m\u001b[1m  Activating\u001b[22m\u001b[39m project at `/global/u1/b/blaschke/analyze-iris/SlurmCLI`\n"
     ]
    },
    {
     "name": "stderr",
     "output_type": "stream",
     "text": [
      "\u001b[32m\u001b[1m  Activating\u001b[22m\u001b[39m project at `/global/u1/b/blaschke/analyze-iris/SlurmCLI`\n"
     ]
    }
   ],
   "source": [
    "@everywhere begin\n",
    "    import Pkg\n",
    "    Pkg.activate(joinpath(@__DIR__, \"SlurmCLI\"))\n",
    "    Pkg.instantiate()\n",
    "end"
   ]
  },
  {
   "cell_type": "code",
   "execution_count": 4,
   "id": "e65165ce-42a4-4053-86ba-4428f22d13f7",
   "metadata": {},
   "outputs": [],
   "source": [
    "@everywhere using SlurmCLI"
   ]
  },
  {
   "cell_type": "code",
   "execution_count": 5,
   "id": "a183ce04-d10b-4409-bcc8-fb34ece375c0",
   "metadata": {},
   "outputs": [],
   "source": [
    "@everywhere begin\n",
    "    using Base: @kwdef\n",
    "    using CodecZlib\n",
    "    using LMDB\n",
    "    using Chain\n",
    "    using JSON\n",
    "    using Dates\n",
    "end"
   ]
  },
  {
   "cell_type": "code",
   "execution_count": 6,
   "id": "2c9310ce-23d2-4222-ac1c-d28c48a8e9af",
   "metadata": {},
   "outputs": [],
   "source": [
    "@everywhere @kwdef struct Job\n",
    "    id::Int64                    = 0\n",
    "    admin_comment::Vector{UInt8} = UInt8[]\n",
    "    valid::Bool                  = false\n",
    "end"
   ]
  },
  {
   "cell_type": "code",
   "execution_count": 7,
   "id": "f39e6dc5-6e4d-45b0-8bba-9e8ebb13ce94",
   "metadata": {
    "tags": []
   },
   "outputs": [
    {
     "data": {
      "text/plain": [
       "collect! (generic function with 1 method)"
      ]
     },
     "execution_count": 7,
     "metadata": {},
     "output_type": "execute_result"
    }
   ],
   "source": [
    "fn_ret_type(fn, in_type::DataType) = Base.return_types(fn, (in_type,))[1]\n",
    "\n",
    "function launch_monitor(processor; buffer_size=32)\n",
    "    function remote_monitor(fn, jobs, results)\n",
    "        @sync while true\n",
    "            job = try\n",
    "                take!(jobs)\n",
    "            catch y\n",
    "                break\n",
    "            end\n",
    "            t = @async fn(job)\n",
    "            @async put!(results, fetch(t))\n",
    "        end\n",
    "    end\n",
    "\n",
    "    jobs    = RemoteChannel(()->Channel{Job}(buffer_size))\n",
    "    results = RemoteChannel(\n",
    "            ()->Channel{fn_ret_type(processor, Job)}(buffer_size)\n",
    "        )\n",
    "\n",
    "    for p in workers()\n",
    "        remote_do(remote_monitor, p, processor, jobs, results)\n",
    "    end\n",
    "\n",
    "    return jobs, results\n",
    "end\n",
    "\n",
    "\n",
    "function collect!(\n",
    "        results::A; collect_time=1,\n",
    "    ) where {\n",
    "             T <: Job,\n",
    "             S <: AbstractChannel{T},\n",
    "             A <: Union{S, RemoteChannel{S}}\n",
    "            }\n",
    "\n",
    "    collected = Vector{Job}()\n",
    "\n",
    "    t = @async while true\n",
    "        fd = take!(results)\n",
    "        push!(collected, fd)\n",
    "    end\n",
    "\n",
    "    sleep(collect_time)\n",
    "    schedule(t, InterruptException(), error=true)\n",
    "\n",
    "    return collected\n",
    "end"
   ]
  },
  {
   "cell_type": "code",
   "execution_count": 8,
   "id": "fb7e8d79-a797-49b5-8a5b-2c59971fe219",
   "metadata": {},
   "outputs": [],
   "source": [
    "@everywhere function lmdb_add(lmdb_d, key, value)\n",
    "    LMDB.txn_dbi_do(lmdb_d) do txn, dbi\n",
    "        if !( key in keys(lmdb_d) )\n",
    "            put!(txn, dbi, key, SlurmCLI.Bits.to_bits([0]))\n",
    "        end\n",
    "\n",
    "        idx = SlurmCLI.Bits.from_bits(get(txn, dbi, key, Vector{UInt8}))[1] + 1\n",
    "        put!(txn, dbi, \"$(key):$(idx)\", value)\n",
    "        put!(txn, dbi, key, SlurmCLI.Bits.to_bits([idx]))\n",
    "    end\n",
    "end\n",
    "\n",
    "@everywhere function lmdb_get(lmdb_d, key)\n",
    "    vals = []\n",
    "    \n",
    "    if !( key in keys(lmdb_d) )\n",
    "        return vals\n",
    "    end\n",
    "    \n",
    "    LMDB.txn_dbi_do(lmdb_d) do txn, dbi\n",
    "        idx = SlurmCLI.Bits.from_bits(get(txn, dbi, key, Vector{UInt8}))[1]\n",
    "        for i in 1:idx\n",
    "            push!(vals, get(txn, dbi, \"$(key):$(i)\", Vector{UInt8}))\n",
    "        end\n",
    "    end\n",
    "    return vals\n",
    "end"
   ]
  },
  {
   "cell_type": "code",
   "execution_count": 9,
   "id": "07844800-8aa6-4138-b719-e0f3e603ebd5",
   "metadata": {},
   "outputs": [
    {
     "data": {
      "text/plain": [
       "LMDBDict{Int64, Vector{UInt8}}(Environment is opened\n",
       "DB path: /global/cfs/cdirs/nstaff/blaschke/slurm/cori\n",
       "Size of the data memory map: 1048576\n",
       "ID of the last used page: 1\n",
       "ID of the last committed transaction: 0\n",
       "Max reader slots in the environment: 126\n",
       "Max reader slots used in the environment: 0, DBI(0x00000001, \"\"))"
      ]
     },
     "execution_count": 9,
     "metadata": {},
     "output_type": "execute_result"
    }
   ],
   "source": [
    "lmdb_d = LMDBDict{Int64, Vector{UInt8}}(\n",
    "    joinpath(ENV[\"CFS\"], \"nstaff\", \"blaschke\", \"slurm\", \"cori\")\n",
    ")"
   ]
  },
  {
   "cell_type": "code",
   "execution_count": 10,
   "id": "d860f9b1-be3d-4b4d-b566-a0e560d6005e",
   "metadata": {},
   "outputs": [
    {
     "data": {
      "text/plain": [
       "1073741824"
      ]
     },
     "execution_count": 10,
     "metadata": {},
     "output_type": "execute_result"
    }
   ],
   "source": [
    "lmdb_d.env[:MapSize] = 1024^3"
   ]
  },
  {
   "cell_type": "code",
   "execution_count": 11,
   "id": "f97d0189-a185-480a-95fc-a7342c658d03",
   "metadata": {},
   "outputs": [
    {
     "data": {
      "text/plain": [
       "LMDBDict{Int64, Vector{UInt8}}(Environment is opened\n",
       "DB path: /global/cfs/cdirs/nstaff/blaschke/slurm/cori\n",
       "Size of the data memory map: 1073741824\n",
       "ID of the last used page: 1\n",
       "ID of the last committed transaction: 0\n",
       "Max reader slots in the environment: 126\n",
       "Max reader slots used in the environment: 0, DBI(0x00000001, \"\"))"
      ]
     },
     "execution_count": 11,
     "metadata": {},
     "output_type": "execute_result"
    }
   ],
   "source": [
    "lmdb_d"
   ]
  },
  {
   "cell_type": "code",
   "execution_count": 12,
   "id": "97f26845-6c26-40c2-b4bb-31c9b9f68770",
   "metadata": {},
   "outputs": [
    {
     "data": {
      "text/plain": [
       "(RemoteChannel{Channel{Job}}(1, 1, 78), RemoteChannel{Channel{Job}}(1, 1, 79))"
      ]
     },
     "execution_count": 12,
     "metadata": {},
     "output_type": "execute_result"
    }
   ],
   "source": [
    "jobs, admin_comments = launch_monitor(\n",
    "    x->begin\n",
    "        sacct = SlurmCLI.shell(`sacct -nPXo AdminComment -j $(x.id)`)\n",
    "        valid = length(sacct.stdout)>0 && length(sacct.stderr)==0\n",
    "        sacct_compressed = transcode(ZlibCompressor, sacct.stdout)\n",
    "        Job(id=x.id, admin_comment=sacct_compressed, valid=valid)\n",
    "    end\n",
    "    ; buffer_size=1024\n",
    ")"
   ]
  },
  {
   "cell_type": "code",
   "execution_count": 13,
   "id": "3b4da513-32ba-4a23-b989-6088f57beff9",
   "metadata": {},
   "outputs": [],
   "source": [
    "# db, results = launch_monitor(\n",
    "#     x->begin\n",
    "#         lmdb_d = LMDBDict{String, Vector{UInt8}}(\n",
    "#            joinpath(ENV[\"CFS\"], \"nstaff\", \"blaschke\", \"slurm\", \"cori\")\n",
    "#         )\n",
    "#         if ! x.valid\n",
    "#             return x\n",
    "#         end\n",
    "#         lmdb_add(lmdb_d, \"$(x.id)\", x.admin_comment)\n",
    "#         close(lmdb_d)\n",
    "#         x\n",
    "#     end\n",
    "# )"
   ]
  },
  {
   "cell_type": "code",
   "execution_count": 14,
   "id": "d268697f-4210-4658-b77a-9ccf1ce71962",
   "metadata": {},
   "outputs": [
    {
     "data": {
      "text/plain": [
       "Task (runnable) @0x0000155529ad6120"
      ]
     },
     "execution_count": 14,
     "metadata": {},
     "output_type": "execute_result"
    }
   ],
   "source": [
    "@async for i=1:100000000\n",
    "    put!(jobs, Job(id=i))\n",
    "end"
   ]
  },
  {
   "cell_type": "code",
   "execution_count": 15,
   "id": "a5bbf503-e3e3-4878-b100-047886c05f29",
   "metadata": {},
   "outputs": [
    {
     "data": {
      "text/plain": [
       "false"
      ]
     },
     "execution_count": 15,
     "metadata": {},
     "output_type": "execute_result"
    }
   ],
   "source": [
    "using ProgressMeter\n",
    "ProgressMeter.ijulia_behavior(:clear)"
   ]
  },
  {
   "cell_type": "code",
   "execution_count": 16,
   "id": "b1185298-9a56-4e36-aaad-0b3f8c01beb6",
   "metadata": {},
   "outputs": [
    {
     "name": "stderr",
     "output_type": "stream",
     "text": [
      "\u001b[32mCollected: 100%|██████████████████████████| Time: 0:03:53 ( 2.34  s/it)\u001b[39m\n"
     ]
    },
    {
     "ename": "LoadError",
     "evalue": "Code[-30792]: MDB_MAP_FULL: Environment mapsize limit reached",
     "output_type": "error",
     "traceback": [
      "Code[-30792]: MDB_MAP_FULL: Environment mapsize limit reached",
      "",
      "Stacktrace:",
      "  [1] checked_call",
      "    @ ~/.julia/nersc/cori/packages/LMDB/g7vek/src/LMDB.jl:25 [inlined]",
      "  [2] mdb_txn_commit",
      "    @ ~/.julia/nersc/cori/packages/LMDB/g7vek/src/LibLMDB.jl:258 [inlined]",
      "  [3] commit",
      "    @ ~/.julia/nersc/cori/packages/LMDB/g7vek/src/txn.jl:59 [inlined]",
      "  [4] start(f::LMDB.var\"#28#29\"{LMDB.var\"#51#52\"{Int64, Vector{UInt8}, Vector{UInt8}, Int64}, LMDBDict{Int64, Vector{UInt8}}}, env::Environment; flags::UInt32)",
      "    @ LMDB ~/.julia/nersc/cori/packages/LMDB/g7vek/src/txn.jl:36",
      "  [5] #txn_dbi_do#27",
      "    @ ~/.julia/nersc/cori/packages/LMDB/g7vek/src/dicts.jl:44 [inlined]",
      "  [6] txn_dbi_do",
      "    @ ~/.julia/nersc/cori/packages/LMDB/g7vek/src/dicts.jl:43 [inlined]",
      "  [7] setindex!(d::LMDBDict{Int64, Vector{UInt8}}, v::Vector{UInt8}, k::Int64)",
      "    @ LMDB ~/.julia/nersc/cori/packages/LMDB/g7vek/src/dicts.jl:121",
      "  [8] top-level scope",
      "    @ ./In[16]:35",
      "  [9] eval",
      "    @ ./boot.jl:368 [inlined]",
      " [10] include_string(mapexpr::typeof(REPL.softscope), mod::Module, code::String, filename::String)",
      "    @ Base ./loading.jl:1277"
     ]
    }
   ],
   "source": [
    "p  = Progress(\n",
    "    100; desc=\"Collected: \", showspeed=true, enabled=true\n",
    ")\n",
    "update!(p, 0)\n",
    "\n",
    "while true\n",
    "    admn = collect!(admin_comments)\n",
    "    next!(p)\n",
    "\n",
    "    if length(admn) == 0\n",
    "        sleep(10)\n",
    "        continue\n",
    "    end\n",
    "    \n",
    "    # last = admn[end]\n",
    "    # if last.valid\n",
    "    #     dt = @chain last.admin_comment begin\n",
    "    #         transcode(ZlibDecompressor, _)\n",
    "    #         String\n",
    "    #         JSON.parse(_; dicttype=Dict{Symbol, Any})\n",
    "    #         _[:submitTime]\n",
    "    #         unix2datetime\n",
    "    #     end\n",
    "    #     println(dt)\n",
    "    # end\n",
    "    \n",
    "    # for job in admn\n",
    "    #     put!(db, job)\n",
    "    # end\n",
    "    \n",
    "    for job in admn\n",
    "        if ! job.valid\n",
    "            continue\n",
    "        end\n",
    "        lmdb_d[job.id] = job.admin_comment\n",
    "        # lmdb_add(lmdb_d, \"$(job.id)\", job.admin_comment)\n",
    "    end\n",
    "    \n",
    "    # next!(p, showvalues=[(\"length(keys) = \", length(keys(lmdb_d)))])\n",
    "end"
   ]
  },
  {
   "cell_type": "code",
   "execution_count": 31,
   "id": "dfaec236-722f-4f94-a003-0e38eee7e24b",
   "metadata": {},
   "outputs": [
    {
     "data": {
      "text/plain": [
       "136516-element Vector{Int64}:\n",
       "  65536\n",
       " 131072\n",
       "    256\n",
       "  65792\n",
       " 131328\n",
       "    512\n",
       " 131584\n",
       "    768\n",
       "  66304\n",
       " 131840\n",
       "   1024\n",
       "  66560\n",
       " 132096\n",
       "      ⋮\n",
       "  64255\n",
       " 129791\n",
       "  64511\n",
       " 130047\n",
       "  64767\n",
       " 130303\n",
       "  65023\n",
       " 130559\n",
       "  65279\n",
       " 130815\n",
       "  65535\n",
       " 131071"
      ]
     },
     "execution_count": 31,
     "metadata": {},
     "output_type": "execute_result"
    }
   ],
   "source": [
    "keys(lmdb_d)"
   ]
  },
  {
   "cell_type": "code",
   "execution_count": 28,
   "id": "939557bb-958c-4451-a559-7fd70cf217e2",
   "metadata": {},
   "outputs": [
    {
     "data": {
      "text/plain": [
       "136516"
      ]
     },
     "execution_count": 28,
     "metadata": {},
     "output_type": "execute_result"
    }
   ],
   "source": [
    "length(keys(lmdb_d))"
   ]
  },
  {
   "cell_type": "code",
   "execution_count": null,
   "id": "a9bee2f6-20ec-4337-a74b-51c987635dfd",
   "metadata": {},
   "outputs": [],
   "source": []
  }
 ],
 "metadata": {
  "kernelspec": {
   "display_name": "Julia 1.8.0-beta1",
   "language": "julia",
   "name": "julia-1.8"
  },
  "language_info": {
   "file_extension": ".jl",
   "mimetype": "application/julia",
   "name": "julia",
   "version": "1.8.0"
  }
 },
 "nbformat": 4,
 "nbformat_minor": 5
}
