{
 "cells": [
  {
   "cell_type": "code",
   "execution_count": 1,
   "id": "5e5f53bc-81cb-4b7b-bb9e-d6616934b964",
   "metadata": {},
   "outputs": [],
   "source": [
    "using Distributed"
   ]
  },
  {
   "cell_type": "code",
   "execution_count": 2,
   "id": "e3341ccb-f00c-4650-8c9e-e7018baa3986",
   "metadata": {},
   "outputs": [
    {
     "data": {
      "text/plain": [
       "16-element Vector{Int64}:\n",
       "  2\n",
       "  3\n",
       "  4\n",
       "  5\n",
       "  6\n",
       "  7\n",
       "  8\n",
       "  9\n",
       " 10\n",
       " 11\n",
       " 12\n",
       " 13\n",
       " 14\n",
       " 15\n",
       " 16\n",
       " 17"
      ]
     },
     "execution_count": 2,
     "metadata": {},
     "output_type": "execute_result"
    }
   ],
   "source": [
    "addprocs(16)"
   ]
  },
  {
   "cell_type": "code",
   "execution_count": 3,
   "id": "93be0e2e-13ad-4f93-ad22-e5e3168e6e76",
   "metadata": {},
   "outputs": [
    {
     "name": "stdout",
     "output_type": "stream",
     "text": [
      "      From worker 5:\t\u001b[32m\u001b[1m  Activating\u001b[22m\u001b[39m project at `/global/u1/b/blaschke/analyze-iris/SlurmCLI`\n",
      "      From worker 16:\t\u001b[32m\u001b[1m  Activating\u001b[22m\u001b[39m project at `/global/u1/b/blaschke/analyze-iris/SlurmCLI`\n",
      "      From worker 10:\t\u001b[32m\u001b[1m  Activating\u001b[22m\u001b[39m project at `/global/u1/b/blaschke/analyze-iris/SlurmCLI`\n",
      "      From worker 8:\t\u001b[32m\u001b[1m  Activating\u001b[22m\u001b[39m project at `/global/u1/b/blaschke/analyze-iris/SlurmCLI`\n",
      "      From worker 3:\t\u001b[32m\u001b[1m  Activating\u001b[22m\u001b[39m project at `/global/u1/b/blaschke/analyze-iris/SlurmCLI`\n",
      "      From worker 6:\t\u001b[32m\u001b[1m  Activating\u001b[22m\u001b[39m project at `/global/u1/b/blaschke/analyze-iris/SlurmCLI`\n",
      "      From worker 13:\t\u001b[32m\u001b[1m  Activating\u001b[22m\u001b[39m project at `/global/u1/b/blaschke/analyze-iris/SlurmCLI`\n",
      "      From worker 15:\t\u001b[32m\u001b[1m  Activating\u001b[22m\u001b[39m project at `/global/u1/b/blaschke/analyze-iris/SlurmCLI`\n",
      "      From worker 17:\t\u001b[32m\u001b[1m  Activating\u001b[22m\u001b[39m project at `/global/u1/b/blaschke/analyze-iris/SlurmCLI`\n",
      "      From worker 7:\t\u001b[32m\u001b[1m  Activating\u001b[22m\u001b[39m project at `/global/u1/b/blaschke/analyze-iris/SlurmCLI`\n",
      "      From worker 14:\t\u001b[32m\u001b[1m  Activating\u001b[22m\u001b[39m project at `/global/u1/b/blaschke/analyze-iris/SlurmCLI`\n",
      "      From worker 12:\t\u001b[32m\u001b[1m  Activating\u001b[22m\u001b[39m project at `/global/u1/b/blaschke/analyze-iris/SlurmCLI`\n",
      "      From worker 11:\t\u001b[32m\u001b[1m  Activating\u001b[22m\u001b[39m project at `/global/u1/b/blaschke/analyze-iris/SlurmCLI`\n",
      "      From worker 4:\t\u001b[32m\u001b[1m  Activating\u001b[22m\u001b[39m project at `/global/u1/b/blaschke/analyze-iris/SlurmCLI`\n",
      "      From worker 9:\t\u001b[32m\u001b[1m  Activating\u001b[22m\u001b[39m project at `/global/u1/b/blaschke/analyze-iris/SlurmCLI`\n",
      "      From worker 2:\t\u001b[32m\u001b[1m  Activating\u001b[22m\u001b[39m project at `/global/u1/b/blaschke/analyze-iris/SlurmCLI`\n"
     ]
    },
    {
     "name": "stderr",
     "output_type": "stream",
     "text": [
      "\u001b[32m\u001b[1m  Activating\u001b[22m\u001b[39m project at `/global/u1/b/blaschke/analyze-iris/SlurmCLI`\n"
     ]
    }
   ],
   "source": [
    "@everywhere begin\n",
    "    import Pkg\n",
    "    Pkg.activate(joinpath(@__DIR__, \"SlurmCLI\"))\n",
    "    Pkg.instantiate()\n",
    "end"
   ]
  },
  {
   "cell_type": "code",
   "execution_count": 4,
   "id": "e65165ce-42a4-4053-86ba-4428f22d13f7",
   "metadata": {},
   "outputs": [],
   "source": [
    "@everywhere using SlurmCLI"
   ]
  },
  {
   "cell_type": "code",
   "execution_count": 5,
   "id": "a183ce04-d10b-4409-bcc8-fb34ece375c0",
   "metadata": {},
   "outputs": [],
   "source": [
    "@everywhere begin\n",
    "    using Base: @kwdef\n",
    "    using CodecZlib\n",
    "    using DelimitedFiles\n",
    "    using Chain\n",
    "    using JSON\n",
    "    using Dates\n",
    "end"
   ]
  },
  {
   "cell_type": "code",
   "execution_count": 6,
   "id": "2c9310ce-23d2-4222-ac1c-d28c48a8e9af",
   "metadata": {},
   "outputs": [],
   "source": [
    "@everywhere @kwdef struct Job\n",
    "    id::Int64                    = 0\n",
    "    admin_comment::Vector{UInt8} = UInt8[]\n",
    "    valid::Bool                  = false\n",
    "end"
   ]
  },
  {
   "cell_type": "code",
   "execution_count": 7,
   "id": "f39e6dc5-6e4d-45b0-8bba-9e8ebb13ce94",
   "metadata": {
    "tags": []
   },
   "outputs": [
    {
     "data": {
      "text/plain": [
       "collect! (generic function with 1 method)"
      ]
     },
     "execution_count": 7,
     "metadata": {},
     "output_type": "execute_result"
    }
   ],
   "source": [
    "fn_ret_type(fn, in_type::DataType) = Base.return_types(fn, (in_type,))[1]\n",
    "\n",
    "function launch_monitor(processor; buffer_size=32)\n",
    "    function remote_monitor(fn, jobs, results)\n",
    "        @sync while true\n",
    "            job = try\n",
    "                take!(jobs)\n",
    "            catch y\n",
    "                break\n",
    "            end\n",
    "            t = @async fn(job)\n",
    "            @async put!(results, fetch(t))\n",
    "        end\n",
    "    end\n",
    "\n",
    "    jobs    = RemoteChannel(()->Channel{Job}(buffer_size))\n",
    "    results = RemoteChannel(\n",
    "            ()->Channel{fn_ret_type(processor, Job)}(buffer_size)\n",
    "        )\n",
    "\n",
    "    for p in workers()\n",
    "        remote_do(remote_monitor, p, processor, jobs, results)\n",
    "    end\n",
    "\n",
    "    return jobs, results\n",
    "end\n",
    "\n",
    "\n",
    "function launch_consumer(processor, jobs; buffer_size=32)\n",
    "    function remote_monitor(fn, jobs, results)\n",
    "        @sync while true\n",
    "            job = try\n",
    "                take!(jobs)\n",
    "            catch y\n",
    "                break\n",
    "            end\n",
    "            t = @async fn(job)\n",
    "            @async put!(results, fetch(t))\n",
    "        end\n",
    "    end\n",
    "\n",
    "    # jobs    = RemoteChannel(()->Channel{Job}(buffer_size))\n",
    "    results = RemoteChannel(\n",
    "            ()->Channel{fn_ret_type(processor, Job)}(buffer_size)\n",
    "        )\n",
    "\n",
    "    for p in workers()\n",
    "        remote_do(remote_monitor, p, processor, jobs, results)\n",
    "    end\n",
    "\n",
    "    return results\n",
    "end\n",
    "\n",
    "\n",
    "function collect!(\n",
    "        results::A; collect_time=1,\n",
    "    ) where {\n",
    "             T <: Job,\n",
    "             S <: AbstractChannel{T},\n",
    "             A <: Union{S, RemoteChannel{S}}\n",
    "            }\n",
    "\n",
    "    collected = Vector{Job}()\n",
    "\n",
    "    t = @async while true\n",
    "        fd = take!(results)\n",
    "        push!(collected, fd)\n",
    "    end\n",
    "\n",
    "    sleep(collect_time)\n",
    "    schedule(t, InterruptException(), error=true)\n",
    "\n",
    "    return collected\n",
    "end"
   ]
  },
  {
   "cell_type": "code",
   "execution_count": 8,
   "id": "97f26845-6c26-40c2-b4bb-31c9b9f68770",
   "metadata": {},
   "outputs": [
    {
     "data": {
      "text/plain": [
       "(RemoteChannel{Channel{Job}}(1, 1, 210), RemoteChannel{Channel{Job}}(1, 1, 211))"
      ]
     },
     "execution_count": 8,
     "metadata": {},
     "output_type": "execute_result"
    }
   ],
   "source": [
    "jobs, admin_comments = launch_monitor(\n",
    "    x->begin\n",
    "        sacct = SlurmCLI.shell(`sacct -nPXo AdminComment -j $(x.id)`)\n",
    "        valid = length(sacct.stdout)>0 && length(sacct.stderr)==0\n",
    "        sacct_compressed = transcode(ZlibCompressor, sacct.stdout)\n",
    "        Job(id=x.id, admin_comment=sacct_compressed, valid=valid)\n",
    "    end;\n",
    "    buffer_size=1024\n",
    ")"
   ]
  },
  {
   "cell_type": "code",
   "execution_count": 9,
   "id": "c688c9de-8d1c-4572-b90b-5e50bfaf83e1",
   "metadata": {},
   "outputs": [
    {
     "data": {
      "text/plain": [
       "RemoteChannel{Channel{Job}}(1, 1, 212)"
      ]
     },
     "execution_count": 9,
     "metadata": {},
     "output_type": "execute_result"
    }
   ],
   "source": [
    "results = launch_consumer(\n",
    "    x->begin\n",
    "        if ! x.valid\n",
    "            return x\n",
    "        end\n",
    "\n",
    "        decompressed_comment = @chain x.admin_comment begin\n",
    "            transcode(ZlibDecompressor, _)\n",
    "            String\n",
    "        end\n",
    "        path = joinpath(\n",
    "            ENV[\"CFS\"], \"nstaff\", \"blaschke\", \"slurm\", \"cori_$(myid()).stream\"\n",
    "        )\n",
    "        open(ZlibCompressorStream, path, \"a\") do stream\n",
    "            size::Int64 = length(decompressed_comment)\n",
    "            write(stream, size)\n",
    "            write(stream, decompressed_comment)\n",
    "        end\n",
    "        \n",
    "        return x\n",
    "    end,\n",
    "    admin_comments;\n",
    "    buffer_size=1024\n",
    ")"
   ]
  },
  {
   "cell_type": "code",
   "execution_count": 10,
   "id": "d268697f-4210-4658-b77a-9ccf1ce71962",
   "metadata": {},
   "outputs": [
    {
     "data": {
      "text/plain": [
       "Task (runnable) @0x0000155505f4ef80"
      ]
     },
     "execution_count": 10,
     "metadata": {},
     "output_type": "execute_result"
    }
   ],
   "source": [
    "@async for i=1:100000000\n",
    "    put!(jobs, Job(id=i))\n",
    "end"
   ]
  },
  {
   "cell_type": "code",
   "execution_count": 11,
   "id": "a5bbf503-e3e3-4878-b100-047886c05f29",
   "metadata": {},
   "outputs": [
    {
     "data": {
      "text/plain": [
       "false"
      ]
     },
     "execution_count": 11,
     "metadata": {},
     "output_type": "execute_result"
    }
   ],
   "source": [
    "using ProgressMeter\n",
    "ProgressMeter.ijulia_behavior(:clear)"
   ]
  },
  {
   "cell_type": "code",
   "execution_count": null,
   "id": "b1185298-9a56-4e36-aaad-0b3f8c01beb6",
   "metadata": {},
   "outputs": [
    {
     "name": "stderr",
     "output_type": "stream",
     "text": [
      "\u001b[32mCollected: 100%|██████████████████████████| Time: 0:58:30 ( 1.00  s/it)\u001b[39m\n",
      "Worker 11 terminated.\n",
      "\u001b[91m\u001b[1mUnhandled Task \u001b[22m\u001b[39m\u001b[91m\u001b[1mERROR: \u001b[22m\u001b[39mIOError: read: connection reset by peer (ECONNRESET)\n",
      "Stacktrace:\n",
      "  [1] \u001b[0m\u001b[1mwait_readnb\u001b[22m\u001b[0m\u001b[1m(\u001b[22m\u001b[90mx\u001b[39m::\u001b[0mSockets.TCPSocket, \u001b[90mnb\u001b[39m::\u001b[0mInt64\u001b[0m\u001b[1m)\u001b[22m\n",
      "\u001b[90m    @ \u001b[39m\u001b[90mBase\u001b[39m \u001b[90m./\u001b[39m\u001b[90m\u001b[4mstream.jl:410\u001b[24m\u001b[39m\n",
      "  [2] \u001b[0m\u001b[1m(::Base.var\"#wait_locked#674\")\u001b[22m\u001b[0m\u001b[1m(\u001b[22m\u001b[90ms\u001b[39m::\u001b[0mSockets.TCPSocket, \u001b[90mbuf\u001b[39m::\u001b[0mIOBuffer, \u001b[90mnb\u001b[39m::\u001b[0mInt64\u001b[0m\u001b[1m)\u001b[22m\n",
      "\u001b[90m    @ \u001b[39m\u001b[90mBase\u001b[39m \u001b[90m./\u001b[39m\u001b[90m\u001b[4mstream.jl:944\u001b[24m\u001b[39m\n",
      "  [3] \u001b[0m\u001b[1munsafe_read\u001b[22m\u001b[0m\u001b[1m(\u001b[22m\u001b[90ms\u001b[39m::\u001b[0mSockets.TCPSocket, \u001b[90mp\u001b[39m::\u001b[0mPtr\u001b[90m{UInt8}\u001b[39m, \u001b[90mnb\u001b[39m::\u001b[0mUInt64\u001b[0m\u001b[1m)\u001b[22m\n",
      "\u001b[90m    @ \u001b[39m\u001b[90mBase\u001b[39m \u001b[90m./\u001b[39m\u001b[90m\u001b[4mstream.jl:950\u001b[24m\u001b[39m\n",
      "  [4] \u001b[0m\u001b[1munsafe_read\u001b[22m\n",
      "\u001b[90m    @ \u001b[39m\u001b[90m./\u001b[39m\u001b[90m\u001b[4mio.jl:759\u001b[24m\u001b[39m\u001b[90m [inlined]\u001b[39m\n",
      "  [5] \u001b[0m\u001b[1munsafe_read\u001b[22m\u001b[0m\u001b[1m(\u001b[22m\u001b[90ms\u001b[39m::\u001b[0mSockets.TCPSocket, \u001b[90mp\u001b[39m::\u001b[0mBase.RefValue\u001b[90m{NTuple{4, Int64}}\u001b[39m, \u001b[90mn\u001b[39m::\u001b[0mInt64\u001b[0m\u001b[1m)\u001b[22m\n",
      "\u001b[90m    @ \u001b[39m\u001b[90mBase\u001b[39m \u001b[90m./\u001b[39m\u001b[90m\u001b[4mio.jl:758\u001b[24m\u001b[39m\n",
      "  [6] \u001b[0m\u001b[1mread!\u001b[22m\n",
      "\u001b[90m    @ \u001b[39m\u001b[90m./\u001b[39m\u001b[90m\u001b[4mio.jl:760\u001b[24m\u001b[39m\u001b[90m [inlined]\u001b[39m\n",
      "  [7] \u001b[0m\u001b[1mdeserialize_hdr_raw\u001b[22m\n",
      "\u001b[90m    @ \u001b[39m\u001b[90m/global/common/cori_cle7up03/software/julia/julia/1.8.0-beta1/share/julia/stdlib/v1.8/Distributed/src/\u001b[39m\u001b[90m\u001b[4mmessages.jl:167\u001b[24m\u001b[39m\u001b[90m [inlined]\u001b[39m\n",
      "  [8] \u001b[0m\u001b[1mmessage_handler_loop\u001b[22m\u001b[0m\u001b[1m(\u001b[22m\u001b[90mr_stream\u001b[39m::\u001b[0mSockets.TCPSocket, \u001b[90mw_stream\u001b[39m::\u001b[0mSockets.TCPSocket, \u001b[90mincoming\u001b[39m::\u001b[0mBool\u001b[0m\u001b[1m)\u001b[22m\n",
      "\u001b[90m    @ \u001b[39m\u001b[35mDistributed\u001b[39m \u001b[90m/global/common/cori_cle7up03/software/julia/julia/1.8.0-beta1/share/julia/stdlib/v1.8/Distributed/src/\u001b[39m\u001b[90m\u001b[4mprocess_messages.jl:172\u001b[24m\u001b[39m\n",
      "  [9] \u001b[0m\u001b[1mprocess_tcp_streams\u001b[22m\u001b[0m\u001b[1m(\u001b[22m\u001b[90mr_stream\u001b[39m::\u001b[0mSockets.TCPSocket, \u001b[90mw_stream\u001b[39m::\u001b[0mSockets.TCPSocket, \u001b[90mincoming\u001b[39m::\u001b[0mBool\u001b[0m\u001b[1m)\u001b[22m\n",
      "\u001b[90m    @ \u001b[39m\u001b[35mDistributed\u001b[39m \u001b[90m/global/common/cori_cle7up03/software/julia/julia/1.8.0-beta1/share/julia/stdlib/v1.8/Distributed/src/\u001b[39m\u001b[90m\u001b[4mprocess_messages.jl:133\u001b[24m\u001b[39m\n",
      " [10] \u001b[0m\u001b[1m(::Distributed.var\"#99#100\"{Sockets.TCPSocket, Sockets.TCPSocket, Bool})\u001b[22m\u001b[0m\u001b[1m(\u001b[22m\u001b[0m\u001b[1m)\u001b[22m\n",
      "\u001b[90m    @ \u001b[39m\u001b[35mDistributed\u001b[39m \u001b[90m./\u001b[39m\u001b[90m\u001b[4mtask.jl:476\u001b[24m\u001b[39m\n",
      "Worker 10 terminated.\n",
      "\u001b[91m\u001b[1mUnhandled Task \u001b[22m\u001b[39m\u001b[91m\u001b[1mERROR: \u001b[22m\u001b[39mIOError: read: connection reset by peer (ECONNRESET)\n",
      "Stacktrace:\n",
      "  [1] \u001b[0m\u001b[1mwait_readnb\u001b[22m\u001b[0m\u001b[1m(\u001b[22m\u001b[90mx\u001b[39m::\u001b[0mSockets.TCPSocket, \u001b[90mnb\u001b[39m::\u001b[0mInt64\u001b[0m\u001b[1m)\u001b[22m\n",
      "\u001b[90m    @ \u001b[39m\u001b[90mBase\u001b[39m \u001b[90m./\u001b[39m\u001b[90m\u001b[4mstream.jl:410\u001b[24m\u001b[39m\n",
      "  [2] \u001b[0m\u001b[1m(::Base.var\"#wait_locked#674\")\u001b[22m\u001b[0m\u001b[1m(\u001b[22m\u001b[90ms\u001b[39m::\u001b[0mSockets.TCPSocket, \u001b[90mbuf\u001b[39m::\u001b[0mIOBuffer, \u001b[90mnb\u001b[39m::\u001b[0mInt64\u001b[0m\u001b[1m)\u001b[22m\n",
      "\u001b[90m    @ \u001b[39m\u001b[90mBase\u001b[39m \u001b[90m./\u001b[39m\u001b[90m\u001b[4mstream.jl:944\u001b[24m\u001b[39m\n",
      "  [3] \u001b[0m\u001b[1munsafe_read\u001b[22m\u001b[0m\u001b[1m(\u001b[22m\u001b[90ms\u001b[39m::\u001b[0mSockets.TCPSocket, \u001b[90mp\u001b[39m::\u001b[0mPtr\u001b[90m{UInt8}\u001b[39m, \u001b[90mnb\u001b[39m::\u001b[0mUInt64\u001b[0m\u001b[1m)\u001b[22m\n",
      "\u001b[90m    @ \u001b[39m\u001b[90mBase\u001b[39m \u001b[90m./\u001b[39m\u001b[90m\u001b[4mstream.jl:950\u001b[24m\u001b[39m\n",
      "  [4] \u001b[0m\u001b[1munsafe_read\u001b[22m\n",
      "\u001b[90m    @ \u001b[39m\u001b[90m./\u001b[39m\u001b[90m\u001b[4mio.jl:759\u001b[24m\u001b[39m\u001b[90m [inlined]\u001b[39m\n",
      "  [5] \u001b[0m\u001b[1munsafe_read\u001b[22m\u001b[0m\u001b[1m(\u001b[22m\u001b[90ms\u001b[39m::\u001b[0mSockets.TCPSocket, \u001b[90mp\u001b[39m::\u001b[0mBase.RefValue\u001b[90m{NTuple{4, Int64}}\u001b[39m, \u001b[90mn\u001b[39m::\u001b[0mInt64\u001b[0m\u001b[1m)\u001b[22m\n",
      "\u001b[90m    @ \u001b[39m\u001b[90mBase\u001b[39m \u001b[90m./\u001b[39m\u001b[90m\u001b[4mio.jl:758\u001b[24m\u001b[39m\n",
      "  [6] \u001b[0m\u001b[1mread!\u001b[22m\n",
      "\u001b[90m    @ \u001b[39m\u001b[90m./\u001b[39m\u001b[90m\u001b[4mio.jl:760\u001b[24m\u001b[39m\u001b[90m [inlined]\u001b[39m\n",
      "  [7] \u001b[0m\u001b[1mdeserialize_hdr_raw\u001b[22m\n",
      "\u001b[90m    @ \u001b[39m\u001b[90m/global/common/cori_cle7up03/software/julia/julia/1.8.0-beta1/share/julia/stdlib/v1.8/Distributed/src/\u001b[39m\u001b[90m\u001b[4mmessages.jl:167\u001b[24m\u001b[39m\u001b[90m [inlined]\u001b[39m\n",
      "  [8] \u001b[0m\u001b[1mmessage_handler_loop\u001b[22m\u001b[0m\u001b[1m(\u001b[22m\u001b[90mr_stream\u001b[39m::\u001b[0mSockets.TCPSocket, \u001b[90mw_stream\u001b[39m::\u001b[0mSockets.TCPSocket, \u001b[90mincoming\u001b[39m::\u001b[0mBool\u001b[0m\u001b[1m)\u001b[22m\n",
      "\u001b[90m    @ \u001b[39m\u001b[35mDistributed\u001b[39m \u001b[90m/global/common/cori_cle7up03/software/julia/julia/1.8.0-beta1/share/julia/stdlib/v1.8/Distributed/src/\u001b[39m\u001b[90m\u001b[4mprocess_messages.jl:172\u001b[24m\u001b[39m\n",
      "  [9] \u001b[0m\u001b[1mprocess_tcp_streams\u001b[22m\u001b[0m\u001b[1m(\u001b[22m\u001b[90mr_stream\u001b[39m::\u001b[0mSockets.TCPSocket, \u001b[90mw_stream\u001b[39m::\u001b[0mSockets.TCPSocket, \u001b[90mincoming\u001b[39m::\u001b[0mBool\u001b[0m\u001b[1m)\u001b[22m\n",
      "\u001b[90m    @ \u001b[39m\u001b[35mDistributed\u001b[39m \u001b[90m/global/common/cori_cle7up03/software/julia/julia/1.8.0-beta1/share/julia/stdlib/v1.8/Distributed/src/\u001b[39m\u001b[90m\u001b[4mprocess_messages.jl:133\u001b[24m\u001b[39m\n",
      " [10] \u001b[0m\u001b[1m(::Distributed.var\"#99#100\"{Sockets.TCPSocket, Sockets.TCPSocket, Bool})\u001b[22m\u001b[0m\u001b[1m(\u001b[22m\u001b[0m\u001b[1m)\u001b[22m\n",
      "\u001b[90m    @ \u001b[39m\u001b[35mDistributed\u001b[39m \u001b[90m./\u001b[39m\u001b[90m\u001b[4mtask.jl:476\u001b[24m\u001b[39m\n",
      "Worker 17 terminated.\n",
      "\u001b[91m\u001b[1mUnhandled Task \u001b[22m\u001b[39m\u001b[91m\u001b[1mERROR: \u001b[22m\u001b[39mIOError: read: connection reset by peer (ECONNRESET)\n",
      "Stacktrace:\n",
      "  [1] \u001b[0m\u001b[1mwait_readnb\u001b[22m\u001b[0m\u001b[1m(\u001b[22m\u001b[90mx\u001b[39m::\u001b[0mSockets.TCPSocket, \u001b[90mnb\u001b[39m::\u001b[0mInt64\u001b[0m\u001b[1m)\u001b[22m\n",
      "\u001b[90m    @ \u001b[39m\u001b[90mBase\u001b[39m \u001b[90m./\u001b[39m\u001b[90m\u001b[4mstream.jl:410\u001b[24m\u001b[39m\n",
      "  [2] \u001b[0m\u001b[1m(::Base.var\"#wait_locked#674\")\u001b[22m\u001b[0m\u001b[1m(\u001b[22m\u001b[90ms\u001b[39m::\u001b[0mSockets.TCPSocket, \u001b[90mbuf\u001b[39m::\u001b[0mIOBuffer, \u001b[90mnb\u001b[39m::\u001b[0mInt64\u001b[0m\u001b[1m)\u001b[22m\n",
      "\u001b[90m    @ \u001b[39m\u001b[90mBase\u001b[39m \u001b[90m./\u001b[39m\u001b[90m\u001b[4mstream.jl:944\u001b[24m\u001b[39m\n",
      "  [3] \u001b[0m\u001b[1munsafe_read\u001b[22m\u001b[0m\u001b[1m(\u001b[22m\u001b[90ms\u001b[39m::\u001b[0mSockets.TCPSocket, \u001b[90mp\u001b[39m::\u001b[0mPtr\u001b[90m{UInt8}\u001b[39m, \u001b[90mnb\u001b[39m::\u001b[0mUInt64\u001b[0m\u001b[1m)\u001b[22m\n",
      "\u001b[90m    @ \u001b[39m\u001b[90mBase\u001b[39m \u001b[90m./\u001b[39m\u001b[90m\u001b[4mstream.jl:950\u001b[24m\u001b[39m\n",
      "  [4] \u001b[0m\u001b[1munsafe_read\u001b[22m\n",
      "\u001b[90m    @ \u001b[39m\u001b[90m./\u001b[39m\u001b[90m\u001b[4mio.jl:759\u001b[24m\u001b[39m\u001b[90m [inlined]\u001b[39m\n",
      "  [5] \u001b[0m\u001b[1munsafe_read\u001b[22m\u001b[0m\u001b[1m(\u001b[22m\u001b[90ms\u001b[39m::\u001b[0mSockets.TCPSocket, \u001b[90mp\u001b[39m::\u001b[0mBase.RefValue\u001b[90m{NTuple{4, Int64}}\u001b[39m, \u001b[90mn\u001b[39m::\u001b[0mInt64\u001b[0m\u001b[1m)\u001b[22m\n",
      "\u001b[90m    @ \u001b[39m\u001b[90mBase\u001b[39m \u001b[90m./\u001b[39m\u001b[90m\u001b[4mio.jl:758\u001b[24m\u001b[39m\n",
      "  [6] \u001b[0m\u001b[1mread!\u001b[22m\n",
      "\u001b[90m    @ \u001b[39m\u001b[90m./\u001b[39m\u001b[90m\u001b[4mio.jl:760\u001b[24m\u001b[39m\u001b[90m [inlined]\u001b[39m\n",
      "  [7] \u001b[0m\u001b[1mdeserialize_hdr_raw\u001b[22m\n",
      "\u001b[90m    @ \u001b[39m\u001b[90m/global/common/cori_cle7up03/software/julia/julia/1.8.0-beta1/share/julia/stdlib/v1.8/Distributed/src/\u001b[39m\u001b[90m\u001b[4mmessages.jl:167\u001b[24m\u001b[39m\u001b[90m [inlined]\u001b[39m\n",
      "  [8] \u001b[0m\u001b[1mmessage_handler_loop\u001b[22m\u001b[0m\u001b[1m(\u001b[22m\u001b[90mr_stream\u001b[39m::\u001b[0mSockets.TCPSocket, \u001b[90mw_stream\u001b[39m::\u001b[0mSockets.TCPSocket, \u001b[90mincoming\u001b[39m::\u001b[0mBool\u001b[0m\u001b[1m)\u001b[22m\n",
      "\u001b[90m    @ \u001b[39m\u001b[35mDistributed\u001b[39m \u001b[90m/global/common/cori_cle7up03/software/julia/julia/1.8.0-beta1/share/julia/stdlib/v1.8/Distributed/src/\u001b[39m\u001b[90m\u001b[4mprocess_messages.jl:172\u001b[24m\u001b[39m\n",
      "  [9] \u001b[0m\u001b[1mprocess_tcp_streams\u001b[22m\u001b[0m\u001b[1m(\u001b[22m\u001b[90mr_stream\u001b[39m::\u001b[0mSockets.TCPSocket, \u001b[90mw_stream\u001b[39m::\u001b[0mSockets.TCPSocket, \u001b[90mincoming\u001b[39m::\u001b[0mBool\u001b[0m\u001b[1m)\u001b[22m\n",
      "\u001b[90m    @ \u001b[39m\u001b[35mDistributed\u001b[39m \u001b[90m/global/common/cori_cle7up03/software/julia/julia/1.8.0-beta1/share/julia/stdlib/v1.8/Distributed/src/\u001b[39m\u001b[90m\u001b[4mprocess_messages.jl:133\u001b[24m\u001b[39m\n",
      " [10] \u001b[0m\u001b[1m(::Distributed.var\"#99#100\"{Sockets.TCPSocket, Sockets.TCPSocket, Bool})\u001b[22m\u001b[0m\u001b[1m(\u001b[22m\u001b[0m\u001b[1m)\u001b[22m\n",
      "\u001b[90m    @ \u001b[39m\u001b[35mDistributed\u001b[39m \u001b[90m./\u001b[39m\u001b[90m\u001b[4mtask.jl:476\u001b[24m\u001b[39m\n",
      "Worker 12 terminated.\n",
      "\u001b[91m\u001b[1mUnhandled Task \u001b[22m\u001b[39m\u001b[91m\u001b[1mERROR: \u001b[22m\u001b[39mIOError: read: connection reset by peer (ECONNRESET)\n",
      "Stacktrace:\n",
      "  [1] \u001b[0m\u001b[1mwait_readnb\u001b[22m\u001b[0m\u001b[1m(\u001b[22m\u001b[90mx\u001b[39m::\u001b[0mSockets.TCPSocket, \u001b[90mnb\u001b[39m::\u001b[0mInt64\u001b[0m\u001b[1m)\u001b[22m\n",
      "\u001b[90m    @ \u001b[39m\u001b[90mBase\u001b[39m \u001b[90m./\u001b[39m\u001b[90m\u001b[4mstream.jl:410\u001b[24m\u001b[39m\n",
      "  [2] \u001b[0m\u001b[1m(::Base.var\"#wait_locked#674\")\u001b[22m\u001b[0m\u001b[1m(\u001b[22m\u001b[90ms\u001b[39m::\u001b[0mSockets.TCPSocket, \u001b[90mbuf\u001b[39m::\u001b[0mIOBuffer, \u001b[90mnb\u001b[39m::\u001b[0mInt64\u001b[0m\u001b[1m)\u001b[22m\n",
      "\u001b[90m    @ \u001b[39m\u001b[90mBase\u001b[39m \u001b[90m./\u001b[39m\u001b[90m\u001b[4mstream.jl:944\u001b[24m\u001b[39m\n",
      "  [3] \u001b[0m\u001b[1munsafe_read\u001b[22m\u001b[0m\u001b[1m(\u001b[22m\u001b[90ms\u001b[39m::\u001b[0mSockets.TCPSocket, \u001b[90mp\u001b[39m::\u001b[0mPtr\u001b[90m{UInt8}\u001b[39m, \u001b[90mnb\u001b[39m::\u001b[0mUInt64\u001b[0m\u001b[1m)\u001b[22m\n",
      "\u001b[90m    @ \u001b[39m\u001b[90mBase\u001b[39m \u001b[90m./\u001b[39m\u001b[90m\u001b[4mstream.jl:950\u001b[24m\u001b[39m\n",
      "  [4] \u001b[0m\u001b[1munsafe_read\u001b[22m\n",
      "\u001b[90m    @ \u001b[39m\u001b[90m./\u001b[39m\u001b[90m\u001b[4mio.jl:759\u001b[24m\u001b[39m\u001b[90m [inlined]\u001b[39m\n",
      "  [5] \u001b[0m\u001b[1munsafe_read\u001b[22m\u001b[0m\u001b[1m(\u001b[22m\u001b[90ms\u001b[39m::\u001b[0mSockets.TCPSocket, \u001b[90mp\u001b[39m::\u001b[0mBase.RefValue\u001b[90m{NTuple{4, Int64}}\u001b[39m, \u001b[90mn\u001b[39m::\u001b[0mInt64\u001b[0m\u001b[1m)\u001b[22m\n",
      "\u001b[90m    @ \u001b[39m\u001b[90mBase\u001b[39m \u001b[90m./\u001b[39m\u001b[90m\u001b[4mio.jl:758\u001b[24m\u001b[39m\n",
      "  [6] \u001b[0m\u001b[1mread!\u001b[22m\n",
      "\u001b[90m    @ \u001b[39m\u001b[90m./\u001b[39m\u001b[90m\u001b[4mio.jl:760\u001b[24m\u001b[39m\u001b[90m [inlined]\u001b[39m\n",
      "  [7] \u001b[0m\u001b[1mdeserialize_hdr_raw\u001b[22m\n",
      "\u001b[90m    @ \u001b[39m\u001b[90m/global/common/cori_cle7up03/software/julia/julia/1.8.0-beta1/share/julia/stdlib/v1.8/Distributed/src/\u001b[39m\u001b[90m\u001b[4mmessages.jl:167\u001b[24m\u001b[39m\u001b[90m [inlined]\u001b[39m\n",
      "  [8] \u001b[0m\u001b[1mmessage_handler_loop\u001b[22m\u001b[0m\u001b[1m(\u001b[22m\u001b[90mr_stream\u001b[39m::\u001b[0mSockets.TCPSocket, \u001b[90mw_stream\u001b[39m::\u001b[0mSockets.TCPSocket, \u001b[90mincoming\u001b[39m::\u001b[0mBool\u001b[0m\u001b[1m)\u001b[22m\n",
      "\u001b[90m    @ \u001b[39m\u001b[35mDistributed\u001b[39m \u001b[90m/global/common/cori_cle7up03/software/julia/julia/1.8.0-beta1/share/julia/stdlib/v1.8/Distributed/src/\u001b[39m\u001b[90m\u001b[4mprocess_messages.jl:172\u001b[24m\u001b[39m\n",
      "  [9] \u001b[0m\u001b[1mprocess_tcp_streams\u001b[22m\u001b[0m\u001b[1m(\u001b[22m\u001b[90mr_stream\u001b[39m::\u001b[0mSockets.TCPSocket, \u001b[90mw_stream\u001b[39m::\u001b[0mSockets.TCPSocket, \u001b[90mincoming\u001b[39m::\u001b[0mBool\u001b[0m\u001b[1m)\u001b[22m\n",
      "\u001b[90m    @ \u001b[39m\u001b[35mDistributed\u001b[39m \u001b[90m/global/common/cori_cle7up03/software/julia/julia/1.8.0-beta1/share/julia/stdlib/v1.8/Distributed/src/\u001b[39m\u001b[90m\u001b[4mprocess_messages.jl:133\u001b[24m\u001b[39m\n",
      " [10] \u001b[0m\u001b[1m(::Distributed.var\"#99#100\"{Sockets.TCPSocket, Sockets.TCPSocket, Bool})\u001b[22m\u001b[0m\u001b[1m(\u001b[22m\u001b[0m\u001b[1m)\u001b[22m\n",
      "\u001b[90m    @ \u001b[39m\u001b[35mDistributed\u001b[39m \u001b[90m./\u001b[39m\u001b[90m\u001b[4mtask.jl:476\u001b[24m\u001b[39m\n",
      "Worker 6 terminated.\n",
      "\u001b[91m\u001b[1mUnhandled Task \u001b[22m\u001b[39m\u001b[91m\u001b[1mERROR: \u001b[22m\u001b[39mIOError: read: connection reset by peer (ECONNRESET)\n",
      "Stacktrace:\n",
      "  [1] \u001b[0m\u001b[1mwait_readnb\u001b[22m\u001b[0m\u001b[1m(\u001b[22m\u001b[90mx\u001b[39m::\u001b[0mSockets.TCPSocket, \u001b[90mnb\u001b[39m::\u001b[0mInt64\u001b[0m\u001b[1m)\u001b[22m\n",
      "\u001b[90m    @ \u001b[39m\u001b[90mBase\u001b[39m \u001b[90m./\u001b[39m\u001b[90m\u001b[4mstream.jl:410\u001b[24m\u001b[39m\n",
      "  [2] \u001b[0m\u001b[1m(::Base.var\"#wait_locked#674\")\u001b[22m\u001b[0m\u001b[1m(\u001b[22m\u001b[90ms\u001b[39m::\u001b[0mSockets.TCPSocket, \u001b[90mbuf\u001b[39m::\u001b[0mIOBuffer, \u001b[90mnb\u001b[39m::\u001b[0mInt64\u001b[0m\u001b[1m)\u001b[22m\n",
      "\u001b[90m    @ \u001b[39m\u001b[90mBase\u001b[39m \u001b[90m./\u001b[39m\u001b[90m\u001b[4mstream.jl:944\u001b[24m\u001b[39m\n",
      "  [3] \u001b[0m\u001b[1munsafe_read\u001b[22m\u001b[0m\u001b[1m(\u001b[22m\u001b[90ms\u001b[39m::\u001b[0mSockets.TCPSocket, \u001b[90mp\u001b[39m::\u001b[0mPtr\u001b[90m{UInt8}\u001b[39m, \u001b[90mnb\u001b[39m::\u001b[0mUInt64\u001b[0m\u001b[1m)\u001b[22m\n",
      "\u001b[90m    @ \u001b[39m\u001b[90mBase\u001b[39m \u001b[90m./\u001b[39m\u001b[90m\u001b[4mstream.jl:950\u001b[24m\u001b[39m\n",
      "  [4] \u001b[0m\u001b[1munsafe_read\u001b[22m\n",
      "\u001b[90m    @ \u001b[39m\u001b[90m./\u001b[39m\u001b[90m\u001b[4mio.jl:759\u001b[24m\u001b[39m\u001b[90m [inlined]\u001b[39m\n",
      "  [5] \u001b[0m\u001b[1munsafe_read\u001b[22m\u001b[0m\u001b[1m(\u001b[22m\u001b[90ms\u001b[39m::\u001b[0mSockets.TCPSocket, \u001b[90mp\u001b[39m::\u001b[0mBase.RefValue\u001b[90m{NTuple{4, Int64}}\u001b[39m, \u001b[90mn\u001b[39m::\u001b[0mInt64\u001b[0m\u001b[1m)\u001b[22m\n",
      "\u001b[90m    @ \u001b[39m\u001b[90mBase\u001b[39m \u001b[90m./\u001b[39m\u001b[90m\u001b[4mio.jl:758\u001b[24m\u001b[39m\n",
      "  [6] \u001b[0m\u001b[1mread!\u001b[22m\n",
      "\u001b[90m    @ \u001b[39m\u001b[90m./\u001b[39m\u001b[90m\u001b[4mio.jl:760\u001b[24m\u001b[39m\u001b[90m [inlined]\u001b[39m\n",
      "  [7] \u001b[0m\u001b[1mdeserialize_hdr_raw\u001b[22m\n",
      "\u001b[90m    @ \u001b[39m\u001b[90m/global/common/cori_cle7up03/software/julia/julia/1.8.0-beta1/share/julia/stdlib/v1.8/Distributed/src/\u001b[39m\u001b[90m\u001b[4mmessages.jl:167\u001b[24m\u001b[39m\u001b[90m [inlined]\u001b[39m\n",
      "  [8] \u001b[0m\u001b[1mmessage_handler_loop\u001b[22m\u001b[0m\u001b[1m(\u001b[22m\u001b[90mr_stream\u001b[39m::\u001b[0mSockets.TCPSocket, \u001b[90mw_stream\u001b[39m::\u001b[0mSockets.TCPSocket, \u001b[90mincoming\u001b[39m::\u001b[0mBool\u001b[0m\u001b[1m)\u001b[22m\n",
      "\u001b[90m    @ \u001b[39m\u001b[35mDistributed\u001b[39m \u001b[90m/global/common/cori_cle7up03/software/julia/julia/1.8.0-beta1/share/julia/stdlib/v1.8/Distributed/src/\u001b[39m\u001b[90m\u001b[4mprocess_messages.jl:172\u001b[24m\u001b[39m\n",
      "  [9] \u001b[0m\u001b[1mprocess_tcp_streams\u001b[22m\u001b[0m\u001b[1m(\u001b[22m\u001b[90mr_stream\u001b[39m::\u001b[0mSockets.TCPSocket, \u001b[90mw_stream\u001b[39m::\u001b[0mSockets.TCPSocket, \u001b[90mincoming\u001b[39m::\u001b[0mBool\u001b[0m\u001b[1m)\u001b[22m\n",
      "\u001b[90m    @ \u001b[39m\u001b[35mDistributed\u001b[39m \u001b[90m/global/common/cori_cle7up03/software/julia/julia/1.8.0-beta1/share/julia/stdlib/v1.8/Distributed/src/\u001b[39m\u001b[90m\u001b[4mprocess_messages.jl:133\u001b[24m\u001b[39m\n",
      " [10] \u001b[0m\u001b[1m(::Distributed.var\"#99#100\"{Sockets.TCPSocket, Sockets.TCPSocket, Bool})\u001b[22m\u001b[0m\u001b[1m(\u001b[22m\u001b[0m\u001b[1m)\u001b[22m\n",
      "\u001b[90m    @ \u001b[39m\u001b[35mDistributed\u001b[39m \u001b[90m./\u001b[39m\u001b[90m\u001b[4mtask.jl:476\u001b[24m\u001b[39m\n",
      "┌ Error: Fatal error on process 1\n",
      "│   exception = (ErrorException(\"attempt to send to unknown socket\"), Union{Ptr{Nothing}, Base.InterpreterIP}[Ptr{Nothing} @0x000015553ee4a2fb, Ptr{Nothing} @0x000015553cecd829, Ptr{Nothing} @0x000015553cecda86, Ptr{Nothing} @0x00001555240a74bf, Ptr{Nothing} @0x00001555240a7e74, Ptr{Nothing} @0x0000155553d750c9, Ptr{Nothing} @0x000015552409a962, Ptr{Nothing} @0x000015552409ab5f, Ptr{Nothing} @0x0000155553d750c9, Ptr{Nothing} @0x0000155553d97d70])\n",
      "└ @ Distributed /buildworker/worker/package_linux64/build/usr/share/julia/stdlib/v1.8/Distributed/src/process_messages.jl:106\n",
      "┌ Error: Fatal error on process 1\n",
      "│   exception = (Base.IOError(\"stream is closed or unusable\", 0), Union{Ptr{Nothing}, Base.InterpreterIP}[Ptr{Nothing} @0x000015553cec2d74, Ptr{Nothing} @0x000015553cec30e5, Ptr{Nothing} @0x000015553cec7541, Ptr{Nothing} @0x000015553cec7572, Ptr{Nothing} @0x0000155553d750c9, Ptr{Nothing} @0x000015553cecd65f, Ptr{Nothing} @0x000015553cecda59, Ptr{Nothing} @0x00001555240a74bf, Ptr{Nothing} @0x00001555240a7e74, Ptr{Nothing} @0x0000155553d750c9, Ptr{Nothing} @0x000015552409a962, Ptr{Nothing} @0x000015552409ab5f, Ptr{Nothing} @0x0000155553d750c9, Ptr{Nothing} @0x0000155553d97d70])\n",
      "└ @ Distributed /buildworker/worker/package_linux64/build/usr/share/julia/stdlib/v1.8/Distributed/src/process_messages.jl:106\n",
      "Worker 5 terminated.\n",
      "\u001b[91m\u001b[1mUnhandled Task \u001b[22m\u001b[39m\u001b[91m\u001b[1mERROR: \u001b[22m\u001b[39mIOError: read: connection reset by peer (ECONNRESET)\n",
      "Stacktrace:\n",
      "  [1] \u001b[0m\u001b[1mwait_readnb\u001b[22m\u001b[0m\u001b[1m(\u001b[22m\u001b[90mx\u001b[39m::\u001b[0mSockets.TCPSocket, \u001b[90mnb\u001b[39m::\u001b[0mInt64\u001b[0m\u001b[1m)\u001b[22m\n",
      "\u001b[90m    @ \u001b[39m\u001b[90mBase\u001b[39m \u001b[90m./\u001b[39m\u001b[90m\u001b[4mstream.jl:410\u001b[24m\u001b[39m\n",
      "  [2] \u001b[0m\u001b[1m(::Base.var\"#wait_locked#674\")\u001b[22m\u001b[0m\u001b[1m(\u001b[22m\u001b[90ms\u001b[39m::\u001b[0mSockets.TCPSocket, \u001b[90mbuf\u001b[39m::\u001b[0mIOBuffer, \u001b[90mnb\u001b[39m::\u001b[0mInt64\u001b[0m\u001b[1m)\u001b[22m\n",
      "\u001b[90m    @ \u001b[39m\u001b[90mBase\u001b[39m \u001b[90m./\u001b[39m\u001b[90m\u001b[4mstream.jl:944\u001b[24m\u001b[39m\n",
      "  [3] \u001b[0m\u001b[1munsafe_read\u001b[22m\u001b[0m\u001b[1m(\u001b[22m\u001b[90ms\u001b[39m::\u001b[0mSockets.TCPSocket, \u001b[90mp\u001b[39m::\u001b[0mPtr\u001b[90m{UInt8}\u001b[39m, \u001b[90mnb\u001b[39m::\u001b[0mUInt64\u001b[0m\u001b[1m)\u001b[22m\n",
      "\u001b[90m    @ \u001b[39m\u001b[90mBase\u001b[39m \u001b[90m./\u001b[39m\u001b[90m\u001b[4mstream.jl:950\u001b[24m\u001b[39m\n",
      "  [4] \u001b[0m\u001b[1munsafe_read\u001b[22m\n",
      "\u001b[90m    @ \u001b[39m\u001b[90m./\u001b[39m\u001b[90m\u001b[4mio.jl:759\u001b[24m\u001b[39m\u001b[90m [inlined]\u001b[39m\n",
      "  [5] \u001b[0m\u001b[1munsafe_read\u001b[22m\u001b[0m\u001b[1m(\u001b[22m\u001b[90ms\u001b[39m::\u001b[0mSockets.TCPSocket, \u001b[90mp\u001b[39m::\u001b[0mBase.RefValue\u001b[90m{NTuple{4, Int64}}\u001b[39m, \u001b[90mn\u001b[39m::\u001b[0mInt64\u001b[0m\u001b[1m)\u001b[22m\n",
      "\u001b[90m    @ \u001b[39m\u001b[90mBase\u001b[39m \u001b[90m./\u001b[39m\u001b[90m\u001b[4mio.jl:758\u001b[24m\u001b[39m\n",
      "  [6] \u001b[0m\u001b[1mread!\u001b[22m\n",
      "\u001b[90m    @ \u001b[39m\u001b[90m./\u001b[39m\u001b[90m\u001b[4mio.jl:760\u001b[24m\u001b[39m\u001b[90m [inlined]\u001b[39m\n",
      "  [7] \u001b[0m\u001b[1mdeserialize_hdr_raw\u001b[22m\n",
      "\u001b[90m    @ \u001b[39m\u001b[90m/global/common/cori_cle7up03/software/julia/julia/1.8.0-beta1/share/julia/stdlib/v1.8/Distributed/src/\u001b[39m\u001b[90m\u001b[4mmessages.jl:167\u001b[24m\u001b[39m\u001b[90m [inlined]\u001b[39m\n",
      "  [8] \u001b[0m\u001b[1mmessage_handler_loop\u001b[22m\u001b[0m\u001b[1m(\u001b[22m\u001b[90mr_stream\u001b[39m::\u001b[0mSockets.TCPSocket, \u001b[90mw_stream\u001b[39m::\u001b[0mSockets.TCPSocket, \u001b[90mincoming\u001b[39m::\u001b[0mBool\u001b[0m\u001b[1m)\u001b[22m\n",
      "\u001b[90m    @ \u001b[39m\u001b[35mDistributed\u001b[39m \u001b[90m/global/common/cori_cle7up03/software/julia/julia/1.8.0-beta1/share/julia/stdlib/v1.8/Distributed/src/\u001b[39m\u001b[90m\u001b[4mprocess_messages.jl:172\u001b[24m\u001b[39m\n",
      "  [9] \u001b[0m\u001b[1mprocess_tcp_streams\u001b[22m\u001b[0m\u001b[1m(\u001b[22m\u001b[90mr_stream\u001b[39m::\u001b[0mSockets.TCPSocket, \u001b[90mw_stream\u001b[39m::\u001b[0mSockets.TCPSocket, \u001b[90mincoming\u001b[39m::\u001b[0mBool\u001b[0m\u001b[1m)\u001b[22m\n",
      "\u001b[90m    @ \u001b[39m\u001b[35mDistributed\u001b[39m \u001b[90m/global/common/cori_cle7up03/software/julia/julia/1.8.0-beta1/share/julia/stdlib/v1.8/Distributed/src/\u001b[39m\u001b[90m\u001b[4mprocess_messages.jl:133\u001b[24m\u001b[39m\n",
      " [10] \u001b[0m\u001b[1m(::Distributed.var\"#99#100\"{Sockets.TCPSocket, Sockets.TCPSocket, Bool})\u001b[22m\u001b[0m\u001b[1m(\u001b[22m\u001b[0m\u001b[1m)\u001b[22m\n",
      "\u001b[90m    @ \u001b[39m\u001b[35mDistributed\u001b[39m \u001b[90m./\u001b[39m\u001b[90m\u001b[4mtask.jl:476\u001b[24m\u001b[39m\n",
      "Worker 3 terminated.\n",
      "\u001b[91m\u001b[1mUnhandled Task \u001b[22m\u001b[39m\u001b[91m\u001b[1mERROR: \u001b[22m\u001b[39mIOError: read: connection reset by peer (ECONNRESET)\n",
      "Stacktrace:\n",
      "  [1] \u001b[0m\u001b[1mwait_readnb\u001b[22m\u001b[0m\u001b[1m(\u001b[22m\u001b[90mx\u001b[39m::\u001b[0mSockets.TCPSocket, \u001b[90mnb\u001b[39m::\u001b[0mInt64\u001b[0m\u001b[1m)\u001b[22m\n",
      "\u001b[90m    @ \u001b[39m\u001b[90mBase\u001b[39m \u001b[90m./\u001b[39m\u001b[90m\u001b[4mstream.jl:410\u001b[24m\u001b[39m\n",
      "  [2] \u001b[0m\u001b[1m(::Base.var\"#wait_locked#674\")\u001b[22m\u001b[0m\u001b[1m(\u001b[22m\u001b[90ms\u001b[39m::\u001b[0mSockets.TCPSocket, \u001b[90mbuf\u001b[39m::\u001b[0mIOBuffer, \u001b[90mnb\u001b[39m::\u001b[0mInt64\u001b[0m\u001b[1m)\u001b[22m\n",
      "\u001b[90m    @ \u001b[39m\u001b[90mBase\u001b[39m \u001b[90m./\u001b[39m\u001b[90m\u001b[4mstream.jl:944\u001b[24m\u001b[39m\n",
      "  [3] \u001b[0m\u001b[1munsafe_read\u001b[22m\u001b[0m\u001b[1m(\u001b[22m\u001b[90ms\u001b[39m::\u001b[0mSockets.TCPSocket, \u001b[90mp\u001b[39m::\u001b[0mPtr\u001b[90m{UInt8}\u001b[39m, \u001b[90mnb\u001b[39m::\u001b[0mUInt64\u001b[0m\u001b[1m)\u001b[22m\n",
      "\u001b[90m    @ \u001b[39m\u001b[90mBase\u001b[39m \u001b[90m./\u001b[39m\u001b[90m\u001b[4mstream.jl:950\u001b[24m\u001b[39m\n",
      "  [4] \u001b[0m\u001b[1munsafe_read\u001b[22m\n",
      "\u001b[90m    @ \u001b[39m\u001b[90m./\u001b[39m\u001b[90m\u001b[4mio.jl:759\u001b[24m\u001b[39m\u001b[90m [inlined]\u001b[39m\n",
      "  [5] \u001b[0m\u001b[1munsafe_read\u001b[22m\u001b[0m\u001b[1m(\u001b[22m\u001b[90ms\u001b[39m::\u001b[0mSockets.TCPSocket, \u001b[90mp\u001b[39m::\u001b[0mBase.RefValue\u001b[90m{NTuple{4, Int64}}\u001b[39m, \u001b[90mn\u001b[39m::\u001b[0mInt64\u001b[0m\u001b[1m)\u001b[22m\n",
      "\u001b[90m    @ \u001b[39m\u001b[90mBase\u001b[39m \u001b[90m./\u001b[39m\u001b[90m\u001b[4mio.jl:758\u001b[24m\u001b[39m\n",
      "  [6] \u001b[0m\u001b[1mread!\u001b[22m\n",
      "\u001b[90m    @ \u001b[39m\u001b[90m./\u001b[39m\u001b[90m\u001b[4mio.jl:760\u001b[24m\u001b[39m\u001b[90m [inlined]\u001b[39m\n",
      "  [7] \u001b[0m\u001b[1mdeserialize_hdr_raw\u001b[22m\n",
      "\u001b[90m    @ \u001b[39m\u001b[90m/global/common/cori_cle7up03/software/julia/julia/1.8.0-beta1/share/julia/stdlib/v1.8/Distributed/src/\u001b[39m\u001b[90m\u001b[4mmessages.jl:167\u001b[24m\u001b[39m\u001b[90m [inlined]\u001b[39m\n",
      "  [8] \u001b[0m\u001b[1mmessage_handler_loop\u001b[22m\u001b[0m\u001b[1m(\u001b[22m\u001b[90mr_stream\u001b[39m::\u001b[0mSockets.TCPSocket, \u001b[90mw_stream\u001b[39m::\u001b[0mSockets.TCPSocket, \u001b[90mincoming\u001b[39m::\u001b[0mBool\u001b[0m\u001b[1m)\u001b[22m\n",
      "\u001b[90m    @ \u001b[39m\u001b[35mDistributed\u001b[39m \u001b[90m/global/common/cori_cle7up03/software/julia/julia/1.8.0-beta1/share/julia/stdlib/v1.8/Distributed/src/\u001b[39m\u001b[90m\u001b[4mprocess_messages.jl:172\u001b[24m\u001b[39m\n",
      "  [9] \u001b[0m\u001b[1mprocess_tcp_streams\u001b[22m\u001b[0m\u001b[1m(\u001b[22m\u001b[90mr_stream\u001b[39m::\u001b[0mSockets.TCPSocket, \u001b[90mw_stream\u001b[39m::\u001b[0mSockets.TCPSocket, \u001b[90mincoming\u001b[39m::\u001b[0mBool\u001b[0m\u001b[1m)\u001b[22m\n",
      "\u001b[90m    @ \u001b[39m\u001b[35mDistributed\u001b[39m \u001b[90m/global/common/cori_cle7up03/software/julia/julia/1.8.0-beta1/share/julia/stdlib/v1.8/Distributed/src/\u001b[39m\u001b[90m\u001b[4mprocess_messages.jl:133\u001b[24m\u001b[39m\n",
      " [10] \u001b[0m\u001b[1m(::Distributed.var\"#99#100\"{Sockets.TCPSocket, Sockets.TCPSocket, Bool})\u001b[22m\u001b[0m\u001b[1m(\u001b[22m\u001b[0m\u001b[1m)\u001b[22m\n",
      "\u001b[90m    @ \u001b[39m\u001b[35mDistributed\u001b[39m \u001b[90m./\u001b[39m\u001b[90m\u001b[4mtask.jl:476\u001b[24m\u001b[39m\n",
      "Worker 16 terminated.\n",
      "\u001b[91m\u001b[1mUnhandled Task \u001b[22m\u001b[39m\u001b[91m\u001b[1mERROR: \u001b[22m\u001b[39mIOError: read: connection reset by peer (ECONNRESET)\n",
      "Stacktrace:\n",
      "  [1] \u001b[0m\u001b[1mwait_readnb\u001b[22m\u001b[0m\u001b[1m(\u001b[22m\u001b[90mx\u001b[39m::\u001b[0mSockets.TCPSocket, \u001b[90mnb\u001b[39m::\u001b[0mInt64\u001b[0m\u001b[1m)\u001b[22m\n",
      "\u001b[90m    @ \u001b[39m\u001b[90mBase\u001b[39m \u001b[90m./\u001b[39m\u001b[90m\u001b[4mstream.jl:410\u001b[24m\u001b[39m\n",
      "  [2] \u001b[0m\u001b[1m(::Base.var\"#wait_locked#674\")\u001b[22m\u001b[0m\u001b[1m(\u001b[22m\u001b[90ms\u001b[39m::\u001b[0mSockets.TCPSocket, \u001b[90mbuf\u001b[39m::\u001b[0mIOBuffer, \u001b[90mnb\u001b[39m::\u001b[0mInt64\u001b[0m\u001b[1m)\u001b[22m\n",
      "\u001b[90m    @ \u001b[39m\u001b[90mBase\u001b[39m \u001b[90m./\u001b[39m\u001b[90m\u001b[4mstream.jl:944\u001b[24m\u001b[39m\n",
      "  [3] \u001b[0m\u001b[1munsafe_read\u001b[22m\u001b[0m\u001b[1m(\u001b[22m\u001b[90ms\u001b[39m::\u001b[0mSockets.TCPSocket, \u001b[90mp\u001b[39m::\u001b[0mPtr\u001b[90m{UInt8}\u001b[39m, \u001b[90mnb\u001b[39m::\u001b[0mUInt64\u001b[0m\u001b[1m)\u001b[22m\n",
      "\u001b[90m    @ \u001b[39m\u001b[90mBase\u001b[39m \u001b[90m./\u001b[39m\u001b[90m\u001b[4mstream.jl:950\u001b[24m\u001b[39m\n",
      "  [4] \u001b[0m\u001b[1munsafe_read\u001b[22m\n",
      "\u001b[90m    @ \u001b[39m\u001b[90m./\u001b[39m\u001b[90m\u001b[4mio.jl:759\u001b[24m\u001b[39m\u001b[90m [inlined]\u001b[39m\n",
      "  [5] \u001b[0m\u001b[1munsafe_read\u001b[22m\u001b[0m\u001b[1m(\u001b[22m\u001b[90ms\u001b[39m::\u001b[0mSockets.TCPSocket, \u001b[90mp\u001b[39m::\u001b[0mBase.RefValue\u001b[90m{NTuple{4, Int64}}\u001b[39m, \u001b[90mn\u001b[39m::\u001b[0mInt64\u001b[0m\u001b[1m)\u001b[22m\n",
      "\u001b[90m    @ \u001b[39m\u001b[90mBase\u001b[39m \u001b[90m./\u001b[39m\u001b[90m\u001b[4mio.jl:758\u001b[24m\u001b[39m\n",
      "  [6] \u001b[0m\u001b[1mread!\u001b[22m\n",
      "\u001b[90m    @ \u001b[39m\u001b[90m./\u001b[39m\u001b[90m\u001b[4mio.jl:760\u001b[24m\u001b[39m\u001b[90m [inlined]\u001b[39m\n",
      "  [7] \u001b[0m\u001b[1mdeserialize_hdr_raw\u001b[22m\n",
      "\u001b[90m    @ \u001b[39m\u001b[90m/global/common/cori_cle7up03/software/julia/julia/1.8.0-beta1/share/julia/stdlib/v1.8/Distributed/src/\u001b[39m\u001b[90m\u001b[4mmessages.jl:167\u001b[24m\u001b[39m\u001b[90m [inlined]\u001b[39m\n",
      "  [8] \u001b[0m\u001b[1mmessage_handler_loop\u001b[22m\u001b[0m\u001b[1m(\u001b[22m\u001b[90mr_stream\u001b[39m::\u001b[0mSockets.TCPSocket, \u001b[90mw_stream\u001b[39m::\u001b[0mSockets.TCPSocket, \u001b[90mincoming\u001b[39m::\u001b[0mBool\u001b[0m\u001b[1m)\u001b[22m\n",
      "\u001b[90m    @ \u001b[39m\u001b[35mDistributed\u001b[39m \u001b[90m/global/common/cori_cle7up03/software/julia/julia/1.8.0-beta1/share/julia/stdlib/v1.8/Distributed/src/\u001b[39m\u001b[90m\u001b[4mprocess_messages.jl:172\u001b[24m\u001b[39m\n",
      "  [9] \u001b[0m\u001b[1mprocess_tcp_streams\u001b[22m\u001b[0m\u001b[1m(\u001b[22m\u001b[90mr_stream\u001b[39m::\u001b[0mSockets.TCPSocket, \u001b[90mw_stream\u001b[39m::\u001b[0mSockets.TCPSocket, \u001b[90mincoming\u001b[39m::\u001b[0mBool\u001b[0m\u001b[1m)\u001b[22m\n",
      "\u001b[90m    @ \u001b[39m\u001b[35mDistributed\u001b[39m \u001b[90m/global/common/cori_cle7up03/software/julia/julia/1.8.0-beta1/share/julia/stdlib/v1.8/Distributed/src/\u001b[39m\u001b[90m\u001b[4mprocess_messages.jl:133\u001b[24m\u001b[39m\n",
      " [10] \u001b[0m\u001b[1m(::Distributed.var\"#99#100\"{Sockets.TCPSocket, Sockets.TCPSocket, Bool})\u001b[22m\u001b[0m\u001b[1m(\u001b[22m\u001b[0m\u001b[1m)\u001b[22m\n",
      "\u001b[90m    @ \u001b[39m\u001b[35mDistributed\u001b[39m \u001b[90m./\u001b[39m\u001b[90m\u001b[4mtask.jl:476\u001b[24m\u001b[39m\n",
      "Worker 2 terminated.\n",
      "\u001b[91m\u001b[1mUnhandled Task \u001b[22m\u001b[39m\u001b[91m\u001b[1mERROR: \u001b[22m\u001b[39mIOError: read: connection reset by peer (ECONNRESET)\n",
      "Stacktrace:\n",
      "  [1] \u001b[0m\u001b[1mwait_readnb\u001b[22m\u001b[0m\u001b[1m(\u001b[22m\u001b[90mx\u001b[39m::\u001b[0mSockets.TCPSocket, \u001b[90mnb\u001b[39m::\u001b[0mInt64\u001b[0m\u001b[1m)\u001b[22m\n",
      "\u001b[90m    @ \u001b[39m\u001b[90mBase\u001b[39m \u001b[90m./\u001b[39m\u001b[90m\u001b[4mstream.jl:410\u001b[24m\u001b[39m\n",
      "  [2] \u001b[0m\u001b[1m(::Base.var\"#wait_locked#674\")\u001b[22m\u001b[0m\u001b[1m(\u001b[22m\u001b[90ms\u001b[39m::\u001b[0mSockets.TCPSocket, \u001b[90mbuf\u001b[39m::\u001b[0mIOBuffer, \u001b[90mnb\u001b[39m::\u001b[0mInt64\u001b[0m\u001b[1m)\u001b[22m\n",
      "\u001b[90m    @ \u001b[39m\u001b[90mBase\u001b[39m \u001b[90m./\u001b[39m\u001b[90m\u001b[4mstream.jl:944\u001b[24m\u001b[39m\n",
      "  [3] \u001b[0m\u001b[1munsafe_read\u001b[22m\u001b[0m\u001b[1m(\u001b[22m\u001b[90ms\u001b[39m::\u001b[0mSockets.TCPSocket, \u001b[90mp\u001b[39m::\u001b[0mPtr\u001b[90m{UInt8}\u001b[39m, \u001b[90mnb\u001b[39m::\u001b[0mUInt64\u001b[0m\u001b[1m)\u001b[22m\n",
      "\u001b[90m    @ \u001b[39m\u001b[90mBase\u001b[39m \u001b[90m./\u001b[39m\u001b[90m\u001b[4mstream.jl:950\u001b[24m\u001b[39m\n",
      "  [4] \u001b[0m\u001b[1munsafe_read\u001b[22m\n",
      "\u001b[90m    @ \u001b[39m\u001b[90m./\u001b[39m\u001b[90m\u001b[4mio.jl:759\u001b[24m\u001b[39m\u001b[90m [inlined]\u001b[39m\n",
      "  [5] \u001b[0m\u001b[1munsafe_read\u001b[22m\u001b[0m\u001b[1m(\u001b[22m\u001b[90ms\u001b[39m::\u001b[0mSockets.TCPSocket, \u001b[90mp\u001b[39m::\u001b[0mBase.RefValue\u001b[90m{NTuple{4, Int64}}\u001b[39m, \u001b[90mn\u001b[39m::\u001b[0mInt64\u001b[0m\u001b[1m)\u001b[22m\n",
      "\u001b[90m    @ \u001b[39m\u001b[90mBase\u001b[39m \u001b[90m./\u001b[39m\u001b[90m\u001b[4mio.jl:758\u001b[24m\u001b[39m\n",
      "  [6] \u001b[0m\u001b[1mread!\u001b[22m\n",
      "\u001b[90m    @ \u001b[39m\u001b[90m./\u001b[39m\u001b[90m\u001b[4mio.jl:760\u001b[24m\u001b[39m\u001b[90m [inlined]\u001b[39m\n",
      "  [7] \u001b[0m\u001b[1mdeserialize_hdr_raw\u001b[22m\n",
      "\u001b[90m    @ \u001b[39m\u001b[90m/global/common/cori_cle7up03/software/julia/julia/1.8.0-beta1/share/julia/stdlib/v1.8/Distributed/src/\u001b[39m\u001b[90m\u001b[4mmessages.jl:167\u001b[24m\u001b[39m\u001b[90m [inlined]\u001b[39m\n",
      "  [8] \u001b[0m\u001b[1mmessage_handler_loop\u001b[22m\u001b[0m\u001b[1m(\u001b[22m\u001b[90mr_stream\u001b[39m::\u001b[0mSockets.TCPSocket, \u001b[90mw_stream\u001b[39m::\u001b[0mSockets.TCPSocket, \u001b[90mincoming\u001b[39m::\u001b[0mBool\u001b[0m\u001b[1m)\u001b[22m\n",
      "\u001b[90m    @ \u001b[39m\u001b[35mDistributed\u001b[39m \u001b[90m/global/common/cori_cle7up03/software/julia/julia/1.8.0-beta1/share/julia/stdlib/v1.8/Distributed/src/\u001b[39m\u001b[90m\u001b[4mprocess_messages.jl:172\u001b[24m\u001b[39m\n",
      "  [9] \u001b[0m\u001b[1mprocess_tcp_streams\u001b[22m\u001b[0m\u001b[1m(\u001b[22m\u001b[90mr_stream\u001b[39m::\u001b[0mSockets.TCPSocket, \u001b[90mw_stream\u001b[39m::\u001b[0mSockets.TCPSocket, \u001b[90mincoming\u001b[39m::\u001b[0mBool\u001b[0m\u001b[1m)\u001b[22m\n",
      "\u001b[90m    @ \u001b[39m\u001b[35mDistributed\u001b[39m \u001b[90m/global/common/cori_cle7up03/software/julia/julia/1.8.0-beta1/share/julia/stdlib/v1.8/Distributed/src/\u001b[39m\u001b[90m\u001b[4mprocess_messages.jl:133\u001b[24m\u001b[39m\n",
      " [10] \u001b[0m\u001b[1m(::Distributed.var\"#99#100\"{Sockets.TCPSocket, Sockets.TCPSocket, Bool})\u001b[22m\u001b[0m\u001b[1m(\u001b[22m\u001b[0m\u001b[1m)\u001b[22m\n",
      "\u001b[90m    @ \u001b[39m\u001b[35mDistributed\u001b[39m \u001b[90m./\u001b[39m\u001b[90m\u001b[4mtask.jl:476\u001b[24m\u001b[39m\n"
     ]
    }
   ],
   "source": [
    "p  = Progress(\n",
    "    3500; desc=\"Collected: \", showspeed=true, enabled=true\n",
    ")\n",
    "update!(p, 0)\n",
    "\n",
    "while true\n",
    "    admn = collect!(admin_comments)\n",
    "    next!(p)\n",
    "\n",
    "    if length(admn) == 0\n",
    "        sleep(10)\n",
    "        continue\n",
    "    end\n",
    "end"
   ]
  },
  {
   "cell_type": "code",
   "execution_count": null,
   "id": "a9bee2f6-20ec-4337-a74b-51c987635dfd",
   "metadata": {},
   "outputs": [],
   "source": []
  }
 ],
 "metadata": {
  "kernelspec": {
   "display_name": "Julia 1.8.0-beta1",
   "language": "julia",
   "name": "julia-1.8"
  },
  "language_info": {
   "file_extension": ".jl",
   "mimetype": "application/julia",
   "name": "julia",
   "version": "1.8.0"
  }
 },
 "nbformat": 4,
 "nbformat_minor": 5
}
