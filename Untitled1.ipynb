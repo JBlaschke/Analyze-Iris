{
 "cells": [
  {
   "cell_type": "code",
   "execution_count": 1,
   "id": "772f7ae7-3ea2-4537-91f4-0ed5f879e9e3",
   "metadata": {},
   "outputs": [],
   "source": [
    "using Revise, Dates, JSON, DataFrames, BenchmarkTools, StatsBase, Parquet"
   ]
  },
  {
   "cell_type": "code",
   "execution_count": 2,
   "id": "24b0b21d-21d9-4174-80c7-16771ef164ff",
   "metadata": {},
   "outputs": [
    {
     "name": "stderr",
     "output_type": "stream",
     "text": [
      "\u001b[32m\u001b[1m  Activating\u001b[22m\u001b[39m project at `~/Developer/analyze-iris/SlurmCLI`\n"
     ]
    }
   ],
   "source": [
    "import Pkg\n",
    "Pkg.activate(joinpath(@__DIR__, \"SlurmCLI\"))"
   ]
  },
  {
   "cell_type": "code",
   "execution_count": 3,
   "id": "9ea856dc-9a1a-4441-8874-335b696b9867",
   "metadata": {},
   "outputs": [
    {
     "name": "stderr",
     "output_type": "stream",
     "text": [
      "┌ Info: Precompiling SlurmCLI [f20ae521-c5a4-4611-9d1a-038c97f73376]\n",
      "└ @ Base loading.jl:1664\n"
     ]
    }
   ],
   "source": [
    "using SlurmCLI"
   ]
  },
  {
   "cell_type": "code",
   "execution_count": 4,
   "id": "d76e4e30-6241-400b-864f-282b67107b11",
   "metadata": {},
   "outputs": [
    {
     "data": {
      "text/plain": [
       "1-element Vector{Int64}:\n",
       " 792"
      ]
     },
     "execution_count": 4,
     "metadata": {},
     "output_type": "execute_result"
    }
   ],
   "source": [
    "SlurmCLI.Nids.nids(\"nid792\")"
   ]
  },
  {
   "cell_type": "code",
   "execution_count": 5,
   "id": "a8511c59-78d2-481e-9990-c5a13bdf2b3d",
   "metadata": {},
   "outputs": [
    {
     "data": {
      "text/plain": [
       "64-element Vector{Int64}:\n",
       " 792\n",
       " 793\n",
       " 794\n",
       " 795\n",
       " 800\n",
       " 801\n",
       " 802\n",
       " 803\n",
       " 804\n",
       " 805\n",
       " 806\n",
       " 807\n",
       " 808\n",
       "   ⋮\n",
       " 865\n",
       " 866\n",
       " 867\n",
       " 868\n",
       " 869\n",
       " 870\n",
       " 871\n",
       " 872\n",
       " 873\n",
       " 874\n",
       " 875\n",
       " 876"
      ]
     },
     "execution_count": 5,
     "metadata": {},
     "output_type": "execute_result"
    }
   ],
   "source": [
    "SlurmCLI.Nids.nids(\"nid00[792-795,800-831,845,847-848,852-876]\")"
   ]
  },
  {
   "cell_type": "code",
   "execution_count": null,
   "id": "0cfef92e-c541-4b9c-bda5-32aa83346903",
   "metadata": {},
   "outputs": [],
   "source": []
  }
 ],
 "metadata": {
  "kernelspec": {
   "display_name": "Juliaup 1.10.2",
   "language": "julia",
   "name": "juliaup-1.10"
  },
  "language_info": {
   "file_extension": ".jl",
   "mimetype": "application/julia",
   "name": "julia",
   "version": "1.10.2"
  }
 },
 "nbformat": 4,
 "nbformat_minor": 5
}
